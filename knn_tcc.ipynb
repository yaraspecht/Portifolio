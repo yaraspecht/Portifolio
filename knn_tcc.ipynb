{
 "cells": [
  {
   "cell_type": "code",
   "execution_count": 11,
   "metadata": {},
   "outputs": [],
   "source": [
    "# -*- coding: utf-8 -*-\n",
    "# Implementação do k-NN com skLearn\n",
    "\n",
    "import sys\n",
    "import pandas as pd\n",
    "import numpy as np\n",
    "import matplotlib.pyplot as plt\n",
    "from sklearn.neighbors import KNeighborsClassifier\n",
    "from sklearn import model_selection\n",
    "from sklearn.model_selection import train_test_split\n",
    "from sklearn.datasets import load_iris"
   ]
  },
  {
   "cell_type": "code",
   "execution_count": 12,
   "metadata": {},
   "outputs": [],
   "source": [
    "\n",
    "# Inicialização da lista de amostras separada em entrada e saída (classes)\n",
    "entradas, saidas= [], []"
   ]
  },
  {
   "cell_type": "code",
   "execution_count": 13,
   "metadata": {},
   "outputs": [],
   "source": [
    "\n",
    "\n",
    "# Carregar dados de arquivo CSV com amostras\n",
    "with open('F:\\\\py\\\\Produtos_4_3.csv', 'r') as f:\n",
    "#ler arquivo linha por linha\n",
    "    for linha in f.readlines():\n",
    "        # obter os atributos da amostra\n",
    "        atrib = linha.replace('\\n','').split(',')\n",
    "        #entradas.append([float(atrib[0]), float(atrib[1]), float(atrib[2]), float(atrib[3])])\n",
    "        #saidas.append(atrib[4])        \n",
    "        entradas.append([(atrib[0]),(atrib[1]), (atrib[2])])\n",
    "        saidas.append(atrib[1])        \n"
   ]
  },
  {
   "cell_type": "code",
   "execution_count": 35,
   "metadata": {},
   "outputs": [
    {
     "name": "stdout",
     "output_type": "stream",
     "text": [
      "[['400', '3', '1'], ['7999', '1', '4'], ['2199', '1', '1'], ['790', '2', '4'], ['1359', '3', '3'], ['1699', '2', '2'], ['1040', '3', '5'], ['700', '3', '5'], ['649', '3', '5'], ['539', '2', '3'], ['2990', '3', '5'], ['650', '3', '4'], ['599', '2', '1'], ['447', '3', '3'], ['539', '1', '5'], ['290', '2', '1'], ['5899', '1', '4'], ['499', '1', '4'], ['800', '3', '4'], ['1150', '2', '2'], ['1080', '1', '2'], ['1999', '2', '4'], ['4999', '2', '2'], ['880', '3', '5'], ['13999', '2', '1'], ['299', '3', '3'], ['490', '1', '3'], ['1499', '3', '1'], ['940', '3', '4'], ['3493', '3', '3'], ['599', '3', '3'], ['350', '3', '2'], ['639', '3', '4'], ['238', '2', '2'], ['640', '1', '5'], ['1130', '2', '4'], ['1050', '1', '3'], ['8699', '2', '4'], ['2499', '1', '4'], ['499', '3', '5'], ['4389', '1', '5'], ['980', '1', '3'], ['299', '2', '4'], ['1790', '3', '2'], ['12197', '1', '1'], ['8999', '1', '2'], ['1199', '1', '4'], ['14499', '2', '3'], ['4999', '3', '2'], ['2999', '2', '4'], ['1799', '3', '4'], ['899', '1', '1'], ['710', '3', '3'], ['1039', '2', '5'], ['32999', '1', '3'], ['2232', '2', '4'], ['990', '3', '2'], ['4279', '1', '2'], ['3746', '3', '1'], ['1300', '2', '3'], ['349', '3', '3'], ['390', '1', '1'], ['299', '2', '3'], ['7074', '2', '2'], ['375', '3', '2'], ['16666', '1', '5'], ['1880', '2', '1'], ['599', '1', '1'], ['33769', '1', '4'], ['1089', '1', '4'], ['1499', '1', '4'], ['10399', '3', '4'], ['8999', '3', '1'], ['2900', '2', '2'], ['319', '2', '3'], ['650', '1', '2'], ['12999', '3', '2'], ['449', '1', '2'], ['568', '2', '4'], ['369', '3', '4'], ['2689', '3', '4'], ['5699', '3', '1'], ['34999', '2', '1'], ['550', '2', '4'], ['1899', '1', '5'], ['899', '3', '4'], ['2498', '1', '5'], ['18848', '3', '4'], ['729', '2', '1'], ['4696', '2', '2'], ['6999', '1', '5'], ['15499', '3', '5'], ['1109', '3', '1'], ['5699', '2', '4'], ['650', '1', '5'], ['500', '1', '2'], ['1519', '2', '3'], ['720', '2', '3'], ['4220', '3', '4'], ['840', '3', '2'], ['599', '3', '2'], ['1440', '3', '2'], ['653', '3', '1'], ['399', '1', '5'], ['5999', '1', '1'], ['1749', '2', '1'], ['1299', '3', '1'], ['152', '2', '2'], ['619', '3', '3'], ['1198', '3', '2'], ['1770', '2', '5'], ['499', '3', '1'], ['2190', '1', '5'], ['627', '2', '1'], ['2300', '2', '5'], ['599', '2', '1'], ['999', '1', '5'], ['8295', '3', '3'], ['899', '2', '4'], ['1759', '1', '4'], ['82499', '3', '3'], ['2299', '2', '1'], ['2290', '2', '1'], ['139', '1', '1'], ['399', '2', '5'], ['515', '3', '2'], ['3499', '1', '1'], ['5699', '2', '2'], ['5699', '1', '4'], ['2499', '2', '5'], ['99', '1', '3'], ['1290', '2', '4'], ['11999', '3', '5'], ['490', '3', '4'], ['1198', '2', '1'], ['1260', '2', '3'], ['2877', '2', '5'], ['899', '3', '4'], ['2050', '3', '5'], ['699', '3', '4'], ['1399', '2', '4'], ['375', '1', '2'], ['96', '2', '5'], ['749', '3', '3'], ['29599', '1', '1'], ['3700', '2', '4'], ['699', '2', '1'], ['2499', '2', '2'], ['949', '1', '2'], ['1590', '1', '3'], ['1290', '2', '2'], ['438', '3', '5'], ['349', '2', '5'], ['1290', '3', '3'], ['400', '1', '1'], ['2389', '1', '1'], ['2500', '3', '3'], ['290', '3', '1'], ['16999', '3', '5'], ['1649', '3', '2'], ['1969', '3', '5'], ['8499', '2', '5'], ['4990', '2', '5'], ['950', '2', '2'], ['559', '2', '3'], ['3999', '1', '1'], ['58999', '3', '3'], ['1600', '1', '1'], ['390', '3', '2'], ['849', '3', '1'], ['6390', '1', '4'], ['1899', '2', '1'], ['1380', '1', '4'], ['2780', '2', '2'], ['13999', '2', '3'], ['390', '1', '2'], ['550', '1', '3'], ['7999', '2', '1'], ['1380', '2', '4'], ['4999', '1', '4'], ['990', '1', '4'], ['400', '2', '4'], ['1489', '1', '3'], ['9100', '1', '3'], ['860', '1', '2'], ['990', '1', '4'], ['1173', '1', '4'], ['499', '2', '5'], ['699', '1', '2'], ['8899', '3', '1'], ['8850', '1', '5'], ['1499', '3', '5'], ['849', '1', '4'], ['189', '1', '2'], ['359', '2', '5'], ['1199', '3', '1'], ['320', '3', '4'], ['899', '2', '2'], ['2149', '2', '4'], ['749', '3', '3'], ['499', '1', '5'], ['1700', '1', '3'], ['379', '3', '1'], ['3299', '2', '3'], ['9999', '3', '1'], ['990', '2', '5'], ['249', '3', '3'], ['900', '2', '2'], ['226', '2', '5'], ['7299', '2', '1'], ['780', '1', '2'], ['2411', '3', '2'], ['3499', '3', '3'], ['2489', '2', '5'], ['499', '1', '4'], ['299', '1', '3'], ['649', '2', '1'], ['19998', '1', '5'], ['749', '2', '4'], ['470', '3', '5'], ['789', '2', '3'], ['1699', '1', '3'], ['5699', '1', '2'], ['939', '1', '5']]\n"
     ]
    }
   ],
   "source": [
    "# Separar 60% dos dados para treinamento e o restante fica para testar\n",
    "p = 0.8\n",
    "limite = int(p * len(entradas))\n",
    "\n",
    "#Preparar o conjunto de treino e teste.\n",
    "X_train, X_test, y_train, y_test = train_test_split(entradas, saidas, random_state=0)\n",
    "\n",
    "print(X_train)"
   ]
  },
  {
   "cell_type": "code",
   "execution_count": 22,
   "metadata": {},
   "outputs": [
    {
     "data": {
      "text/html": [
       "<div>\n",
       "<style scoped>\n",
       "    .dataframe tbody tr th:only-of-type {\n",
       "        vertical-align: middle;\n",
       "    }\n",
       "\n",
       "    .dataframe tbody tr th {\n",
       "        vertical-align: top;\n",
       "    }\n",
       "\n",
       "    .dataframe thead th {\n",
       "        text-align: right;\n",
       "    }\n",
       "</style>\n",
       "<table border=\"1\" class=\"dataframe\">\n",
       "  <thead>\n",
       "    <tr style=\"text-align: right;\">\n",
       "      <th></th>\n",
       "      <th>order_products_value</th>\n",
       "      <th>customer_city</th>\n",
       "      <th>product_category_name</th>\n",
       "    </tr>\n",
       "  </thead>\n",
       "  <tbody>\n",
       "    <tr>\n",
       "      <th>0</th>\n",
       "      <td>400</td>\n",
       "      <td>3</td>\n",
       "      <td>1</td>\n",
       "    </tr>\n",
       "    <tr>\n",
       "      <th>1</th>\n",
       "      <td>7999</td>\n",
       "      <td>1</td>\n",
       "      <td>4</td>\n",
       "    </tr>\n",
       "    <tr>\n",
       "      <th>2</th>\n",
       "      <td>2199</td>\n",
       "      <td>1</td>\n",
       "      <td>1</td>\n",
       "    </tr>\n",
       "    <tr>\n",
       "      <th>3</th>\n",
       "      <td>790</td>\n",
       "      <td>2</td>\n",
       "      <td>4</td>\n",
       "    </tr>\n",
       "    <tr>\n",
       "      <th>4</th>\n",
       "      <td>1359</td>\n",
       "      <td>3</td>\n",
       "      <td>3</td>\n",
       "    </tr>\n",
       "  </tbody>\n",
       "</table>\n",
       "</div>"
      ],
      "text/plain": [
       "  order_products_value customer_city product_category_name\n",
       "0                  400             3                     1\n",
       "1                 7999             1                     4\n",
       "2                 2199             1                     1\n",
       "3                  790             2                     4\n",
       "4                 1359             3                     3"
      ]
     },
     "execution_count": 22,
     "metadata": {},
     "output_type": "execute_result"
    }
   ],
   "source": [
    "# Let us use some visualization to understand our data. First convert the numpy arrays to a dataframe using pandas\n",
    "produtos = pd.DataFrame(X_train, columns = ('order_products_value', 'customer_city', 'product_category_name'))\n",
    "produtos.head()"
   ]
  },
  {
   "cell_type": "code",
   "execution_count": 46,
   "metadata": {},
   "outputs": [],
   "source": [
    "# Build the model using k-nearest neighbors\n",
    "from sklearn.neighbors import KNeighborsClassifier\n",
    "\n",
    "# Instantiate the class into an object\n",
    "knn = KNeighborsClassifier(n_neighbors = 2)"
   ]
  },
  {
   "cell_type": "code",
   "execution_count": 47,
   "metadata": {},
   "outputs": [
    {
     "name": "stderr",
     "output_type": "stream",
     "text": [
      "c:\\users\\-\\appdata\\local\\programs\\python\\python37\\lib\\site-packages\\sklearn\\utils\\validation.py:563: FutureWarning: Beginning in version 0.22, arrays of bytes/strings will be converted to decimal numbers if dtype='numeric'. It is recommended that you convert the array to a float dtype before using it in scikit-learn, for example by using your_array = your_array.astype(np.float64).\n",
      "  FutureWarning)\n",
      "c:\\users\\-\\appdata\\local\\programs\\python\\python37\\lib\\site-packages\\sklearn\\utils\\validation.py:563: FutureWarning: Beginning in version 0.22, arrays of bytes/strings will be converted to decimal numbers if dtype='numeric'. It is recommended that you convert the array to a float dtype before using it in scikit-learn, for example by using your_array = your_array.astype(np.float64).\n",
      "  FutureWarning)\n"
     ]
    },
    {
     "data": {
      "text/plain": [
       "KNeighborsClassifier(algorithm='auto', leaf_size=30, metric='minkowski',\n",
       "           metric_params=None, n_jobs=None, n_neighbors=2, p=2,\n",
       "           weights='uniform')"
      ]
     },
     "execution_count": 47,
     "metadata": {},
     "output_type": "execute_result"
    }
   ],
   "source": [
    "knn.fit(X_train, y_train)"
   ]
  },
  {
   "cell_type": "code",
   "execution_count": 58,
   "metadata": {},
   "outputs": [
    {
     "name": "stdout",
     "output_type": "stream",
     "text": [
      "X_new.shape: (1, 3)\n"
     ]
    }
   ],
   "source": [
    "X_new = np.array([[399, 3,1]])\n",
    "print(\"X_new.shape: {}\".format(X_new.shape))"
   ]
  },
  {
   "cell_type": "code",
   "execution_count": 59,
   "metadata": {},
   "outputs": [
    {
     "name": "stdout",
     "output_type": "stream",
     "text": [
      "Prediction: ['1']\n",
      "Predicted target name: 1    NaN\n",
      "Name: product_category_name, dtype: object\n"
     ]
    }
   ],
   "source": [
    "# Predict the species of iris this would be.\n",
    "\n",
    "prediction = knn.predict(X_new)\n",
    "print(\"Prediction: {}\".format(prediction))\n",
    "print(\"Predicted target name: {}\".format(produtos['product_category_name'][prediction]))"
   ]
  },
  {
   "cell_type": "code",
   "execution_count": 60,
   "metadata": {},
   "outputs": [
    {
     "name": "stdout",
     "output_type": "stream",
     "text": [
      "Test set predictions:\n",
      " ['1' '2' '1' '1' '1' '1' '2' '1' '2' '2' '1' '2' '1' '3' '1' '2' '2' '1'\n",
      " '2' '3' '2' '1' '1' '1' '3' '1' '2' '2' '1' '1' '1' '1' '1' '1' '1' '2'\n",
      " '1' '1' '1' '1' '1' '1' '1' '2' '2' '2' '1' '1' '1' '1' '2' '1' '2' '1'\n",
      " '1' '1' '1' '3' '2' '2' '2' '2' '1' '1' '2' '2' '2' '2' '1' '2' '1' '3'\n",
      " '2' '3' '2']\n"
     ]
    },
    {
     "name": "stderr",
     "output_type": "stream",
     "text": [
      "c:\\users\\-\\appdata\\local\\programs\\python\\python37\\lib\\site-packages\\sklearn\\utils\\validation.py:563: FutureWarning: Beginning in version 0.22, arrays of bytes/strings will be converted to decimal numbers if dtype='numeric'. It is recommended that you convert the array to a float dtype before using it in scikit-learn, for example by using your_array = your_array.astype(np.float64).\n",
      "  FutureWarning)\n",
      "c:\\users\\-\\appdata\\local\\programs\\python\\python37\\lib\\site-packages\\sklearn\\utils\\validation.py:563: FutureWarning: Beginning in version 0.22, arrays of bytes/strings will be converted to decimal numbers if dtype='numeric'. It is recommended that you convert the array to a float dtype before using it in scikit-learn, for example by using your_array = your_array.astype(np.float64).\n",
      "  FutureWarning)\n"
     ]
    }
   ],
   "source": [
    "y_pred = knn.predict(X_test)\n",
    "print(\"Test set predictions:\\n {}\".format(y_pred))"
   ]
  },
  {
   "cell_type": "code",
   "execution_count": 61,
   "metadata": {},
   "outputs": [
    {
     "name": "stdout",
     "output_type": "stream",
     "text": [
      "Prediction Accuracy: 0.32\n"
     ]
    },
    {
     "name": "stderr",
     "output_type": "stream",
     "text": [
      "c:\\users\\-\\appdata\\local\\programs\\python\\python37\\lib\\site-packages\\sklearn\\utils\\validation.py:563: FutureWarning: Beginning in version 0.22, arrays of bytes/strings will be converted to decimal numbers if dtype='numeric'. It is recommended that you convert the array to a float dtype before using it in scikit-learn, for example by using your_array = your_array.astype(np.float64).\n",
      "  FutureWarning)\n",
      "c:\\users\\-\\appdata\\local\\programs\\python\\python37\\lib\\site-packages\\sklearn\\utils\\validation.py:563: FutureWarning: Beginning in version 0.22, arrays of bytes/strings will be converted to decimal numbers if dtype='numeric'. It is recommended that you convert the array to a float dtype before using it in scikit-learn, for example by using your_array = your_array.astype(np.float64).\n",
      "  FutureWarning)\n"
     ]
    }
   ],
   "source": [
    "# We can use the score method of the knn object, which will compute the prediction accuracy for us:\n",
    "print(\"Prediction Accuracy: {:.2f}\".format(knn.score(X_test, y_test)))"
   ]
  },
  {
   "cell_type": "code",
   "execution_count": 62,
   "metadata": {},
   "outputs": [
    {
     "name": "stderr",
     "output_type": "stream",
     "text": [
      "c:\\users\\-\\appdata\\local\\programs\\python\\python37\\lib\\site-packages\\sklearn\\utils\\validation.py:563: FutureWarning: Beginning in version 0.22, arrays of bytes/strings will be converted to decimal numbers if dtype='numeric'. It is recommended that you convert the array to a float dtype before using it in scikit-learn, for example by using your_array = your_array.astype(np.float64).\n",
      "  FutureWarning)\n",
      "c:\\users\\-\\appdata\\local\\programs\\python\\python37\\lib\\site-packages\\sklearn\\utils\\validation.py:563: FutureWarning: Beginning in version 0.22, arrays of bytes/strings will be converted to decimal numbers if dtype='numeric'. It is recommended that you convert the array to a float dtype before using it in scikit-learn, for example by using your_array = your_array.astype(np.float64).\n",
      "  FutureWarning)\n"
     ]
    },
    {
     "data": {
      "text/plain": [
       "KNeighborsClassifier(algorithm='auto', leaf_size=30, metric='minkowski',\n",
       "           metric_params=None, n_jobs=None, n_neighbors=3, p=2,\n",
       "           weights='uniform')"
      ]
     },
     "execution_count": 62,
     "metadata": {},
     "output_type": "execute_result"
    }
   ],
   "source": [
    "from sklearn.neighbors import KNeighborsClassifier\n",
    "#instanciamos a classe.\n",
    "#Nada impede de treiná-lo logo em seguida.\n",
    " \n",
    "knn2 = KNeighborsClassifier(n_neighbors=3)\n",
    "knn2.fit(X_train,y_train)\n"
   ]
  },
  {
   "cell_type": "code",
   "execution_count": null,
   "metadata": {},
   "outputs": [],
   "source": []
  },
  {
   "cell_type": "code",
   "execution_count": 327,
   "metadata": {},
   "outputs": [
    {
     "name": "stdout",
     "output_type": "stream",
     "text": [
      "['3' '3' '3' '3' '1' '1' '1' '1' '1' '2' '1' '3' '3' '3' '1' '1' '1' '1'\n",
      " '2' '1' '1' '2' '2' '1' '2' '2' '1' '3' '3' '1' '1' '2' '1' '3' '1' '1'\n",
      " '1' '3' '1' '3' '2' '2' '1' '3' '3' '1' '1' '1' '2' '3' '2' '1' '1' '2'\n",
      " '2' '3' '1' '1' '1' '1' '2' '2' '1' '3' '1' '1' '1' '1' '1' '1' '1' '3'\n",
      " '1' '1' '2' '2' '1' '1' '3' '3' '2' '1' '3' '3' '2' '3' '1' '2' '1' '3'\n",
      " '2' '1' '1' '3' '1' '1' '3' '2' '1' '2' '3' '1' '1' '3' '3' '1' '1' '1'\n",
      " '3' '1' '1' '1' '3' '2' '3' '1' '1' '1' '1' '2' '2' '1' '1' '3' '1' '1'\n",
      " '3' '1' '1' '1' '1' '2' '1' '3' '1' '1' '1' '1' '3' '3' '3' '3' '2' '1'\n",
      " '1' '3' '1' '2' '2' '3' '2' '1' '3' '2' '3' '1' '3' '3' '1' '3' '1' '2'\n",
      " '3' '1' '1' '1' '1' '3' '3' '1' '3' '3' '1' '3' '1' '3' '3' '1' '1' '2'\n",
      " '1' '3' '1' '1' '2' '3' '2' '1' '1' '2' '3' '1' '3' '3' '2' '1' '1' '3'\n",
      " '2' '3']\n"
     ]
    },
    {
     "name": "stderr",
     "output_type": "stream",
     "text": [
      "c:\\users\\-\\appdata\\local\\programs\\python\\python37\\lib\\site-packages\\sklearn\\utils\\validation.py:563: FutureWarning: Beginning in version 0.22, arrays of bytes/strings will be converted to decimal numbers if dtype='numeric'. It is recommended that you convert the array to a float dtype before using it in scikit-learn, for example by using your_array = your_array.astype(np.float64).\n",
      "  FutureWarning)\n",
      "c:\\users\\-\\appdata\\local\\programs\\python\\python37\\lib\\site-packages\\sklearn\\utils\\validation.py:563: FutureWarning: Beginning in version 0.22, arrays of bytes/strings will be converted to decimal numbers if dtype='numeric'. It is recommended that you convert the array to a float dtype before using it in scikit-learn, for example by using your_array = your_array.astype(np.float64).\n",
      "  FutureWarning)\n"
     ]
    }
   ],
   "source": [
    "#Aqui armazeno as predições do algoritmo\n",
    "#No caso aplicamos ele ao conjunto de teste\n",
    "#Essa variavel servira para fazermos algumas métricas.\n",
    "predictions = knn2.predict(X_test)\n",
    "print(predictions)\n"
   ]
  },
  {
   "cell_type": "code",
   "execution_count": 324,
   "metadata": {},
   "outputs": [
    {
     "data": {
      "text/plain": [
       "0.32"
      ]
     },
     "execution_count": 324,
     "metadata": {},
     "output_type": "execute_result"
    }
   ],
   "source": [
    "from sklearn import metrics\n",
    "\n",
    "metrics.accuracy_score(y_test,predictions)"
   ]
  },
  {
   "cell_type": "code",
   "execution_count": 325,
   "metadata": {},
   "outputs": [
    {
     "data": {
      "text/plain": [
       "array([[30, 14, 17],\n",
       "       [41, 12, 22],\n",
       "       [29, 13, 22]], dtype=int64)"
      ]
     },
     "execution_count": 325,
     "metadata": {},
     "output_type": "execute_result"
    }
   ],
   "source": [
    "metrics.confusion_matrix(y_test,predictions)"
   ]
  },
  {
   "cell_type": "code",
   "execution_count": 291,
   "metadata": {},
   "outputs": [
    {
     "ename": "SyntaxError",
     "evalue": "invalid character in identifier (<ipython-input-291-bd081ed6b804>, line 14)",
     "output_type": "error",
     "traceback": [
      "\u001b[1;36m  File \u001b[1;32m\"<ipython-input-291-bd081ed6b804>\"\u001b[1;36m, line \u001b[1;32m14\u001b[0m\n\u001b[1;33m    teste = knn.kneighbors(n_neighbors=2)¶\u001b[0m\n\u001b[1;37m                                         ^\u001b[0m\n\u001b[1;31mSyntaxError\u001b[0m\u001b[1;31m:\u001b[0m invalid character in identifier\n"
     ]
    }
   ],
   "source": [
    "print(limite)\n",
    "print('entradas' , entradas[:limite])\n",
    "print('sainda', saidas[:limite])\n",
    "\n",
    "\n",
    "# Chamar a função do skLearn para aplicar o k-NN com K = 13\n",
    "#knn = KNeighborsClassifier(n_neighbors=13)\n",
    "knn = KNeighborsClassifier(n_neighbors=2)\n",
    "# Ajustar o modelo usando \"entradas\" como dados de treinamento e \"saidas\" como valores-alvo\n",
    "fit = knn.fit(entradas[:limite], saidas[:limite])\n",
    "# Previsão dos rótulos das classes para o restante da base de dados\n",
    "#rotulos_previstos = knn.predict(entradas[limite:])\n",
    "rotulos_previstos = knn.predict(entradas)\n",
    "teste = knn.kneighbors(n_neighbors=2)¶\n",
    "print('rotulos' , rotulos_previstos)\n",
    "print(len(rotulos_previstos))\n",
    "print('saidads' , saidas)"
   ]
  },
  {
   "cell_type": "code",
   "execution_count": null,
   "metadata": {},
   "outputs": [],
   "source": []
  },
  {
   "cell_type": "code",
   "execution_count": null,
   "metadata": {},
   "outputs": [],
   "source": []
  },
  {
   "cell_type": "code",
   "execution_count": 289,
   "metadata": {},
   "outputs": [
    {
     "name": "stdout",
     "output_type": "stream",
     "text": [
      "299\n",
      "299\n",
      "239\n",
      "3 1\n",
      "240\n",
      "3 1\n",
      "241\n",
      "1 1\n",
      "entrou\n",
      "242\n",
      "1 1\n",
      "entrou\n",
      "243\n",
      "1 1\n",
      "entrou\n",
      "244\n",
      "1 2\n",
      "245\n",
      "1 3\n",
      "246\n",
      "3 3\n",
      "entrou\n",
      "247\n",
      "3 3\n",
      "entrou\n",
      "248\n",
      "1 1\n",
      "entrou\n",
      "249\n",
      "1 3\n",
      "250\n",
      "2 3\n",
      "251\n",
      "1 3\n",
      "252\n",
      "1 1\n",
      "entrou\n",
      "253\n",
      "3 3\n",
      "entrou\n",
      "254\n",
      "2 3\n",
      "255\n",
      "2 1\n",
      "256\n",
      "2 1\n",
      "257\n",
      "2 2\n",
      "entrou\n",
      "258\n",
      "2 3\n",
      "259\n",
      "2 1\n",
      "260\n",
      "1 2\n",
      "261\n",
      "1 1\n",
      "entrou\n",
      "262\n",
      "1 1\n",
      "entrou\n",
      "263\n",
      "3 1\n",
      "264\n",
      "1 3\n",
      "265\n",
      "1 3\n",
      "266\n",
      "1 1\n",
      "entrou\n",
      "267\n",
      "1 3\n",
      "268\n",
      "1 3\n",
      "269\n",
      "1 1\n",
      "entrou\n",
      "270\n",
      "1 2\n",
      "271\n",
      "1 3\n",
      "272\n",
      "1 3\n",
      "273\n",
      "2 2\n",
      "entrou\n",
      "274\n",
      "2 3\n",
      "275\n",
      "2 3\n",
      "276\n",
      "1 2\n",
      "277\n",
      "1 1\n",
      "entrou\n",
      "278\n",
      "2 2\n",
      "entrou\n",
      "279\n",
      "1 2\n",
      "280\n",
      "1 3\n",
      "281\n",
      "1 2\n",
      "282\n",
      "1 3\n",
      "283\n",
      "1 3\n",
      "284\n",
      "1 2\n",
      "285\n",
      "2 1\n",
      "286\n",
      "1 3\n",
      "287\n",
      "1 2\n",
      "288\n",
      "1 2\n",
      "289\n",
      "1 2\n",
      "290\n",
      "2 1\n",
      "291\n",
      "2 2\n",
      "entrou\n",
      "292\n",
      "1 2\n",
      "293\n",
      "2 2\n",
      "entrou\n",
      "294\n",
      "2 1\n",
      "295\n",
      "2 1\n",
      "296\n",
      "1 1\n",
      "entrou\n",
      "297\n",
      "1 2\n",
      "59 297\n",
      "range(239, 298)\n"
     ]
    }
   ],
   "source": [
    "# Contabilizar acertos para os dados de teste\n",
    "acertos, indice_rotulo, i = 0, 0, 0\n",
    "\n",
    "print(len(rotulos_previstos))\n",
    "print(len(saidas))\n",
    "#for i in range(limite, len(entradas)):\n",
    "for i in range(limite,len(entradas)-1):\n",
    "    print(i)\n",
    "    print(rotulos_previstos[indice_rotulo],saidas[i])\n",
    "    if rotulos_previstos[indice_rotulo] == saidas[i]:\n",
    "        print('entrou')\n",
    "        acertos += 1\n",
    "    indice_rotulo += 1\n",
    "print(indice_rotulo, i)\n",
    "print(range(limite,len(entradas)-1))\n"
   ]
  },
  {
   "cell_type": "code",
   "execution_count": 290,
   "metadata": {},
   "outputs": [
    {
     "name": "stdout",
     "output_type": "stream",
     "text": [
      "Total de treinamento: 239\n",
      "Total de testes: 60\n",
      "Total de acertos: 19\n",
      "Porcentagem de acertos: 31.67%\n",
      "limite 239\n"
     ]
    }
   ],
   "source": [
    "print('Total de treinamento: %d' % limite)\n",
    "print('Total de testes: %d' % (len(entradas) - limite))\n",
    "print('Total de acertos: %d' % acertos)\n",
    "print('Porcentagem de acertos: %.2f%%' % (100 * acertos / (len(entradas) - limite)))\n",
    "\n",
    "print('limite', limite)"
   ]
  },
  {
   "cell_type": "code",
   "execution_count": 232,
   "metadata": {},
   "outputs": [],
   "source": [
    "#######################################\n",
    "import pandas\n",
    "from pandas.plotting import scatter_matrix\n",
    "import matplotlib.pyplot as plt\n",
    "from sklearn import model_selection\n",
    "from sklearn.metrics import classification_report\n",
    "from sklearn.metrics import confusion_matrix\n",
    "from sklearn.metrics import accuracy_score\n",
    "from sklearn.linear_model import LogisticRegression\n",
    "from sklearn.tree import DecisionTreeClassifier\n",
    "from sklearn.neighbors import KNeighborsClassifier\n",
    "from sklearn.discriminant_analysis import LinearDiscriminantAnalysis\n",
    "from sklearn.naive_bayes import GaussianNB\n",
    "from sklearn.svm import SVC"
   ]
  },
  {
   "cell_type": "code",
   "execution_count": 194,
   "metadata": {},
   "outputs": [
    {
     "name": "stdout",
     "output_type": "stream",
     "text": [
      "     order_products_value  customer_city  product_category_name\n",
      "279                   299              2                      4\n",
      "280                   299              3                      3\n",
      "281                   290              2                      1\n",
      "282                   290              3                      1\n",
      "283                   290              3                      4\n",
      "284                   279              2                      2\n",
      "285                   250              1                      1\n",
      "286                   249              3                      3\n",
      "287                   238              2                      2\n",
      "288                   226              2                      5\n",
      "289                   219              2                      5\n",
      "290                   189              1                      2\n",
      "291                   189              2                      3\n",
      "292                   161              2                      5\n",
      "293                   152              2                      2\n",
      "294                   150              1                      1\n",
      "295                   139              1                      1\n",
      "296                    99              1                      3\n",
      "297                    96              2                      5\n",
      "298                    70              1                      3\n",
      "customer_city\n",
      "1     99\n",
      "2    101\n",
      "3     99\n",
      "dtype: int64\n"
     ]
    },
    {
     "data": {
      "image/png": "[encoded data removed]",
      "text/plain": [
       "<Figure size 432x288 with 9 Axes>"
      ]
     },
     "metadata": {
      "needs_background": "light"
     },
     "output_type": "display_data"
    }
   ],
   "source": [
    "\n",
    "\n",
    "names = ['order_products_value', 'customer_city', 'product_category_name']\n",
    "dataset = pd.read_csv('F:\\\\py\\\\Produtos_4_3.csv', names=names)\n",
    "\n",
    "\n",
    "print(dataset.tail(20))\n",
    "print(dataset.groupby('customer_city').size())\n",
    "\n",
    "scatter_matrix(dataset)\n",
    "plt.show()\n",
    "\n"
   ]
  },
  {
   "cell_type": "code",
   "execution_count": 195,
   "metadata": {},
   "outputs": [],
   "source": [
    "\n",
    "# Split-out validation dataset\n",
    "array = dataset.values\n",
    "X = array[:,0:2]\n",
    "Y = array[:,2]\n",
    "validation_size = 0.20\n",
    "seed = 7\n",
    "X_train, X_validation, Y_train, Y_validation = model_selection.train_test_split(X, Y, test_size=validation_size, random_state=seed)"
   ]
  },
  {
   "cell_type": "code",
   "execution_count": 198,
   "metadata": {},
   "outputs": [
    {
     "name": "stdout",
     "output_type": "stream",
     "text": [
      "KNN: 0.209283 (0.016628)\n",
      "[0.2125    0.1875    0.2278481]\n"
     ]
    }
   ],
   "source": [
    "# Spot Check Algorithms\n",
    "models = []\n",
    "models.append(('KNN', KNeighborsClassifier()))\n",
    "# evaluate each model in turn\n",
    "results = []\n",
    "names = []\n",
    "for name, model in models:\n",
    "    kfold = model_selection.KFold(n_splits=3, random_state=seed)\n",
    "    cv_results = model_selection.cross_val_score(model, X_train, Y_train, cv=kfold)\n",
    "    results.append(cv_results)\n",
    "    names.append(name)\n",
    "    msg = \"%s: %f (%f)\" % (name, cv_results.mean(), cv_results.std())\n",
    "    print(msg)\n",
    "    print(cv_results)"
   ]
  },
  {
   "cell_type": "code",
   "execution_count": null,
   "metadata": {},
   "outputs": [],
   "source": []
  }
 ],
 "metadata": {
  "kernelspec": {
   "display_name": "Python 3",
   "language": "python",
   "name": "python3"
  },
  "language_info": {
   "codemirror_mode": {
    "name": "ipython",
    "version": 3
   },
   "file_extension": ".py",
   "mimetype": "text/x-python",
   "name": "python",
   "nbconvert_exporter": "python",
   "pygments_lexer": "ipython3",
   "version": "3.7.2"
  }
 },
 "nbformat": 4,
 "nbformat_minor": 2
}
