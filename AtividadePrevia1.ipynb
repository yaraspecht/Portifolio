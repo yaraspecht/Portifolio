{
 "cells": [
  {
   "cell_type": "markdown",
   "metadata": {},
   "source": [
    "Atividade Prévia 1 - Yara Machado Specht\n",
    "Consolidação da Inteligência Web\n",
    "22/01/2019"
   ]
  },
  {
   "cell_type": "code",
   "execution_count": 2,
   "metadata": {},
   "outputs": [],
   "source": [
    "conteudo = open('F:\\\\MBA Data Science\\\\8 - CIW - Consolidação da Inteligência Web\\\\Prática Assistida\\\\avaliacoes.json').read()\n",
    "import json\n",
    "avaliacoes = json.loads(conteudo)"
   ]
  },
  {
   "cell_type": "code",
   "execution_count": 3,
   "metadata": {},
   "outputs": [
    {
     "name": "stdout",
     "output_type": "stream",
     "text": [
      "{'Rubens V. Martins': {'Um Corpo que Cai': 4, 'Scarface': 4.5, 'Touro Indomavel': 3.0, 'Os Bons Companheiros': 4.5, 'Se Meu Apartamento Falasse': 1.0}, 'Roberto C. Garcia': {'Um Corpo que Cai': 3.0, 'Scarface': 1.5, 'Touro Indomavel': 1.0, 'Os Bons Companheiros': 2.0, 'Se Meu Apartamento Falasse': 5.0, 'A Princesa e o Plebeu': 4.5}, 'Denis E. Barreto': {'Um Corpo que Cai': 4.5, 'Scarface': 5.0, 'Os Bons Companheiros': 4.5, 'Se Meu Apartamento Falasse': 1.0}, 'Susan R. da Silva': {'Scarface': 3.5, 'Touro Indomavel': 5.0, 'Se Meu Apartamento Falasse': 1.0, 'Os Bons Companheiros': 5.0, 'A Princesa e o Plebeu': 1.0}, 'Julia F. Barbosa': {'Scarface': 2.5, 'A Princesa e o Plebeu': 4.5, 'Os Bons Companheiros': 3.0}, 'Adriano K. Lopes': {'Um Corpo que Cai': 5.0, 'Scarface': 4.5, 'Touro Indomavel': 4.0, 'Os Bons Companheiros': 2.5, 'Se Meu Apartamento Falasse': 1.0, 'A Princesa e o Plebeu': 1.5}, 'Eduardo B. Machado': {'Um Corpo que Cai': 3.5, 'Scarface': 3.0, 'Se Meu Apartamento Falasse': 1.0, 'Os Bons Companheiros': 4.5, 'A Princesa e o Plebeu': 3.0}, 'Rebeca A. Pereira': {'Se Meu Apartamento Falasse': 1.5, 'Touro Indomavel': 4.5}}\n"
     ]
    }
   ],
   "source": [
    "print(avaliacoes)"
   ]
  },
  {
   "cell_type": "code",
   "execution_count": 4,
   "metadata": {},
   "outputs": [
    {
     "name": "stdout",
     "output_type": "stream",
     "text": [
      "{\n",
      "   \"Rubens V. Martins\": {\n",
      "      \"Um Corpo que Cai\": 4,\n",
      "      \"Scarface\": 4.5,\n",
      "      \"Touro Indomavel\": 3.0,\n",
      "      \"Os Bons Companheiros\": 4.5,\n",
      "      \"Se Meu Apartamento Falasse\": 1.0\n",
      "   },\n",
      "   \"Roberto C. Garcia\": {\n",
      "      \"Um Corpo que Cai\": 3.0,\n",
      "      \"Scarface\": 1.5,\n",
      "      \"Touro Indomavel\": 1.0,\n",
      "      \"Os Bons Companheiros\": 2.0,\n",
      "      \"Se Meu Apartamento Falasse\": 5.0,\n",
      "      \"A Princesa e o Plebeu\": 4.5\n",
      "   },\n",
      "   \"Denis E. Barreto\": {\n",
      "      \"Um Corpo que Cai\": 4.5,\n",
      "      \"Scarface\": 5.0,\n",
      "      \"Os Bons Companheiros\": 4.5,\n",
      "      \"Se Meu Apartamento Falasse\": 1.0\n",
      "   },\n",
      "   \"Susan R. da Silva\": {\n",
      "      \"Scarface\": 3.5,\n",
      "      \"Touro Indomavel\": 5.0,\n",
      "      \"Se Meu Apartamento Falasse\": 1.0,\n",
      "      \"Os Bons Companheiros\": 5.0,\n",
      "      \"A Princesa e o Plebeu\": 1.0\n",
      "   },\n",
      "   \"Julia F. Barbosa\": {\n",
      "      \"Scarface\": 2.5,\n",
      "      \"A Princesa e o Plebeu\": 4.5,\n",
      "      \"Os Bons Companheiros\": 3.0\n",
      "   },\n",
      "   \"Adriano K. Lopes\": {\n",
      "      \"Um Corpo que Cai\": 5.0,\n",
      "      \"Scarface\": 4.5,\n",
      "      \"Touro Indomavel\": 4.0,\n",
      "      \"Os Bons Companheiros\": 2.5,\n",
      "      \"Se Meu Apartamento Falasse\": 1.0,\n",
      "      \"A Princesa e o Plebeu\": 1.5\n",
      "   },\n",
      "   \"Eduardo B. Machado\": {\n",
      "      \"Um Corpo que Cai\": 3.5,\n",
      "      \"Scarface\": 3.0,\n",
      "      \"Se Meu Apartamento Falasse\": 1.0,\n",
      "      \"Os Bons Companheiros\": 4.5,\n",
      "      \"A Princesa e o Plebeu\": 3.0\n",
      "   },\n",
      "   \"Rebeca A. Pereira\": {\n",
      "      \"Se Meu Apartamento Falasse\": 1.5,\n",
      "      \"Touro Indomavel\": 4.5\n",
      "   }\n",
      "}\n"
     ]
    }
   ],
   "source": [
    "print(json.dumps(avaliacoes, indent=3))"
   ]
  },
  {
   "cell_type": "code",
   "execution_count": 9,
   "metadata": {},
   "outputs": [],
   "source": [
    "def inverte(avaliacoes):\n",
    "    resultado = {}\n",
    "    for pessoa in avaliacoes:\n",
    "        for filme in avaliacoes[pessoa]:\n",
    "            resultado.setdefault(filme, {})\n",
    "            resultado[filme][pessoa] = avaliacoes[pessoa][filme]\n",
    "\n",
    "    return resultado"
   ]
  },
  {
   "cell_type": "code",
   "execution_count": 11,
   "metadata": {},
   "outputs": [
    {
     "name": "stdout",
     "output_type": "stream",
     "text": [
      "{\n",
      "   \"Um Corpo que Cai\": {\n",
      "      \"Rubens V. Martins\": 4,\n",
      "      \"Roberto C. Garcia\": 3.0,\n",
      "      \"Denis E. Barreto\": 4.5,\n",
      "      \"Adriano K. Lopes\": 5.0,\n",
      "      \"Eduardo B. Machado\": 3.5\n",
      "   },\n",
      "   \"Scarface\": {\n",
      "      \"Rubens V. Martins\": 4.5,\n",
      "      \"Roberto C. Garcia\": 1.5,\n",
      "      \"Denis E. Barreto\": 5.0,\n",
      "      \"Susan R. da Silva\": 3.5,\n",
      "      \"Julia F. Barbosa\": 2.5,\n",
      "      \"Adriano K. Lopes\": 4.5,\n",
      "      \"Eduardo B. Machado\": 3.0\n",
      "   },\n",
      "   \"Touro Indomavel\": {\n",
      "      \"Rubens V. Martins\": 3.0,\n",
      "      \"Roberto C. Garcia\": 1.0,\n",
      "      \"Susan R. da Silva\": 5.0,\n",
      "      \"Adriano K. Lopes\": 4.0,\n",
      "      \"Rebeca A. Pereira\": 4.5\n",
      "   },\n",
      "   \"Os Bons Companheiros\": {\n",
      "      \"Rubens V. Martins\": 4.5,\n",
      "      \"Roberto C. Garcia\": 2.0,\n",
      "      \"Denis E. Barreto\": 4.5,\n",
      "      \"Susan R. da Silva\": 5.0,\n",
      "      \"Julia F. Barbosa\": 3.0,\n",
      "      \"Adriano K. Lopes\": 2.5,\n",
      "      \"Eduardo B. Machado\": 4.5\n",
      "   },\n",
      "   \"Se Meu Apartamento Falasse\": {\n",
      "      \"Rubens V. Martins\": 1.0,\n",
      "      \"Roberto C. Garcia\": 5.0,\n",
      "      \"Denis E. Barreto\": 1.0,\n",
      "      \"Susan R. da Silva\": 1.0,\n",
      "      \"Adriano K. Lopes\": 1.0,\n",
      "      \"Eduardo B. Machado\": 1.0,\n",
      "      \"Rebeca A. Pereira\": 1.5\n",
      "   },\n",
      "   \"A Princesa e o Plebeu\": {\n",
      "      \"Roberto C. Garcia\": 4.5,\n",
      "      \"Susan R. da Silva\": 1.0,\n",
      "      \"Julia F. Barbosa\": 4.5,\n",
      "      \"Adriano K. Lopes\": 1.5,\n",
      "      \"Eduardo B. Machado\": 3.0\n",
      "   }\n",
      "}\n"
     ]
    }
   ],
   "source": [
    "\n",
    "print(json.dumps(inverte(avaliacoes), indent=3))\n"
   ]
  },
  {
   "cell_type": "code",
   "execution_count": 15,
   "metadata": {},
   "outputs": [],
   "source": [
    "from math import sqrt\n",
    "def sim_euclidiana(avaliacoes, c1, c2):\n",
    "\n",
    "    mesmos_filmes = {}\n",
    "    for filme in avaliacoes[c1]:\n",
    "        if filme in avaliacoes[c2]:\n",
    "            mesmos_filmes[filme] = 1\n",
    "\n",
    "    if len(mesmos_filmes) == 0: return 0\n",
    "\n",
    "    dist_euclidiana = sqrt(sum([pow((avaliacoes[c1][filme] - avaliacoes[c2][filme]), 2) for filme in mesmos_filmes]))\n",
    "\n",
    "    return 1 / (1 + dist_euclidiana)"
   ]
  },
  {
   "cell_type": "code",
   "execution_count": 16,
   "metadata": {},
   "outputs": [
    {
     "data": {
      "text/plain": [
       "0.585786437626905"
      ]
     },
     "execution_count": 16,
     "metadata": {},
     "output_type": "execute_result"
    }
   ],
   "source": [
    "sim_euclidiana(avaliacoes, 'Rubens V. Martins', 'Denis E. Barreto')\n"
   ]
  },
  {
   "cell_type": "code",
   "execution_count": 17,
   "metadata": {},
   "outputs": [],
   "source": [
    "def top_similares(avaliacoes, pessoa, n = 1, medida = sim_euclidiana):\n",
    "    valores = [(medida(avaliacoes, pessoa, outra), outra) for outra in avaliacoes if outra != pessoa]\n",
    "    valores.sort()\n",
    "    valores.reverse()\n",
    "    return valores[0:n]"
   ]
  },
  {
   "cell_type": "code",
   "execution_count": 18,
   "metadata": {},
   "outputs": [
    {
     "data": {
      "text/plain": [
       "[(0.585786437626905, 'Denis E. Barreto'),\n",
       " (0.38742588672279304, 'Rebeca A. Pereira')]"
      ]
     },
     "execution_count": 18,
     "metadata": {},
     "output_type": "execute_result"
    }
   ],
   "source": [
    "top_similares(avaliacoes, 'Rubens V. Martins', 2, sim_euclidiana)"
   ]
  },
  {
   "cell_type": "code",
   "execution_count": 19,
   "metadata": {},
   "outputs": [
    {
     "data": {
      "text/plain": [
       "[(0.3567891723253309, 'Um Corpo que Cai'),\n",
       " (0.3090169943749474, 'Touro Indomavel')]"
      ]
     },
     "execution_count": 19,
     "metadata": {},
     "output_type": "execute_result"
    }
   ],
   "source": [
    "top_similares(inverte(avaliacoes), 'Scarface', 2, sim_euclidiana)"
   ]
  },
  {
   "cell_type": "code",
   "execution_count": null,
   "metadata": {},
   "outputs": [],
   "source": []
  },
  {
   "cell_type": "code",
   "execution_count": 20,
   "metadata": {},
   "outputs": [],
   "source": [
    "def sim_manhattan(avaliacoes, c1, c2):\n",
    "\n",
    "    mesmos_filmes = {}\n",
    "    for filme in avaliacoes[c1]:\n",
    "        if filme in avaliacoes[c2]:\n",
    "            mesmos_filmes[filme] = 1\n",
    "\n",
    "    if len(mesmos_filmes) == 0: return 0\n",
    "\n",
    "    dist_manhattan = sum([abs(avaliacoes[c1][filme] - avaliacoes[c2][filme]) for filme in mesmos_filmes])\n",
    "\n",
    "    return 1 / (1 + dist_manhattan)\n"
   ]
  },
  {
   "cell_type": "code",
   "execution_count": 21,
   "metadata": {},
   "outputs": [],
   "source": [
    "def sim_pearson(avaliacoes, c1, c2):\n",
    "\n",
    "    mesmos_filmes = {}\n",
    "    for filme in avaliacoes[c1]:\n",
    "        if filme in avaliacoes[c2]:\n",
    "            mesmos_filmes[filme] = 1\n",
    "\n",
    "    n = len(mesmos_filmes)\n",
    "    if n == 0: return 0\n",
    "\n",
    "    media_c1 = sum([avaliacoes[c1][filme] for filme in mesmos_filmes]) / n\n",
    "    media_c2 = sum([avaliacoes[c2][filme] for filme in mesmos_filmes]) / n\n",
    "    numerador = sum([((avaliacoes[c1][filme] - media_c1) * (avaliacoes[c2][filme] - media_c2)) for filme in mesmos_filmes])\n",
    "    denominador = sqrt(sum([pow((avaliacoes[c1][filme] - media_c1), 2) for filme in mesmos_filmes])\n",
    "                        * sum([pow((avaliacoes[c2][filme] - media_c2), 2) for filme in mesmos_filmes]))\n",
    "    if denominador == 0: return 0\n",
    "    r = numerador / denominador\n",
    "    return r"
   ]
  },
  {
   "cell_type": "code",
   "execution_count": 22,
   "metadata": {},
   "outputs": [
    {
     "data": {
      "text/plain": [
       "[(0.5, 'Rebeca A. Pereira'),\n",
       " (0.25, 'Denis E. Barreto'),\n",
       " (0.2, 'Rubens V. Martins')]"
      ]
     },
     "execution_count": 22,
     "metadata": {},
     "output_type": "execute_result"
    }
   ],
   "source": [
    " top_similares(avaliacoes, 'Adriano K. Lopes', 3, sim_manhattan)"
   ]
  },
  {
   "cell_type": "code",
   "execution_count": 23,
   "metadata": {},
   "outputs": [
    {
     "data": {
      "text/plain": [
       "[(0.8432740427115678, 'Se Meu Apartamento Falasse')]"
      ]
     },
     "execution_count": 23,
     "metadata": {},
     "output_type": "execute_result"
    }
   ],
   "source": [
    "top_similares(inverte(avaliacoes), 'A Princesa e o Plebeu', 1, sim_pearson)"
   ]
  },
  {
   "cell_type": "code",
   "execution_count": null,
   "metadata": {},
   "outputs": [],
   "source": []
  },
  {
   "cell_type": "code",
   "execution_count": null,
   "metadata": {},
   "outputs": [],
   "source": []
  }
 ],
 "metadata": {
  "kernelspec": {
   "display_name": "Python 3",
   "language": "python",
   "name": "python3"
  },
  "language_info": {
   "codemirror_mode": {
    "name": "ipython",
    "version": 3
   },
   "file_extension": ".py",
   "mimetype": "text/x-python",
   "name": "python",
   "nbconvert_exporter": "python",
   "pygments_lexer": "ipython3",
   "version": "3.7.2"
  }
 },
 "nbformat": 4,
 "nbformat_minor": 2
}
