{
 "cells": [
  {
   "cell_type": "code",
   "execution_count": 52,
   "metadata": {},
   "outputs": [],
   "source": [
    "#!/usr/bin/python\n",
    "# -*- coding: utf-8 -*-\n",
    "# Implementação do k-NN para \"iris data set\"\n",
    "\n",
    "import sys\n",
    "import math\n",
    "import random"
   ]
  },
  {
   "cell_type": "code",
   "execution_count": 57,
   "metadata": {},
   "outputs": [],
   "source": [
    "######################### FUNÇÕES #########################\n",
    "\n",
    "# Imprime informações sobre os dados de iris.data\n",
    "def info_dataset(amostras, verbose=True):\n",
    "    print(verbose)\n",
    "    if verbose:\n",
    "        print('Total de amostras: %d' % len(amostras))\n",
    "    rotulo1, rotulo2, rotulo3 = 0, 0, 0\n",
    "    print('amostras:', amostras)\n",
    "    print('amostra:', amostra)\n",
    "    for amostra in amostras:\n",
    "        print(amostra[-1])\n",
    "        #if amostra[-1] == 'Iris-setosa':\n",
    "        if amostra[-1] == 'SaoPaulo':\n",
    "            rotulo1 += 1\n",
    "        #elif amostra[-1] == 'Iris-versicolor':\n",
    "        elif amostra[-1] == 'RiodeJaneiro':\n",
    "            rotulo2 += 1\n",
    "        #elif amostra[-1] == 'Iris-virginica':\n",
    "        elif amostra[-1] == 'Curitiba':\n",
    "            rotulo3 += 1\n",
    "        else:\n",
    "            print(\"nenhuma classificação!\")\n",
    "    if verbose:\n",
    "        print('Total rotulo 1: %d' % rotulo1)\n",
    "        print('Total rotulo 2: %d' % rotulo2)\n",
    "        print('Total rotulo 3: %d' % rotulo3)\n",
    "    #return [len(amostras), rotulo1, rotulo2, rotulo3]\n",
    "    return [ rotulo1, rotulo2, rotulo3]\n"
   ]
  },
  {
   "cell_type": "code",
   "execution_count": 58,
   "metadata": {},
   "outputs": [],
   "source": [
    "# Distância Euclidiana\n",
    "def dist_euclidiana(v1, v2):\n",
    "    dim, soma = len(v1), 0\n",
    "    # loop sem pegar a última coluna pq é a saída (dim - 1)\n",
    "    for i in range(dim - 1):\n",
    "        soma += math.pow(v1[i] - v2[i], 2)\n",
    "    return math.sqrt(soma)\n"
   ]
  },
  {
   "cell_type": "code",
   "execution_count": 59,
   "metadata": {},
   "outputs": [],
   "source": [
    "# KNN propriamente dito\n",
    "def knn(treinamento, nova_amostra, K):\n",
    "    dists, tam_treino = {}, len(treinamento)\n",
    "    # calcula a distância euclidiana das amostras de treinamento\n",
    "    for i in range(tam_treino):\n",
    "        d = dist_euclidiana(treinamento[i], nova_amostra)\n",
    "        dists[i] = d\n",
    "    # obtém as chaves (índices) dos k-vizinhos mais próximos\n",
    "    k_vizinhos = sorted(dists, key=dists.get)[:K]\n",
    "    # votação majoritária\n",
    "    qtd_rotulo1, qtd_rotulo2, qtd_rotulo3 = 0, 0, 0\n",
    "    for indice in k_vizinhos:\n",
    "        #if treinamento[indice][-1] == 'Iris-setosa':\n",
    "        if treinamento[indice][-1] == 'SaoPaulo':\n",
    "            qtd_rotulo1 += 1\n",
    "        #elif treinamento[indice][-1] == 'Iris-versicolor':\n",
    "        elif treinamento[indice][-1] == 'RiodeJaneiro':\n",
    "            qtd_rotulo2 += 1\n",
    "        #elif treinamento[indice][-1] == 'Iris-virginica':\n",
    "        elif treinamento[indice][-1] == 'Curitiba':\n",
    "            qtd_rotulo3 += 1\n",
    "    # Imprimir/retornar classe com mais votos\n",
    "    if (qtd_rotulo1 > qtd_rotulo2 and qtd_rotulo1 > qtd_rotulo3):\n",
    "        #print('Classe 1')\n",
    "        #return 'Iris-setosa'\n",
    "        return 'SaoPaulo'\n",
    "    elif (qtd_rotulo2 > qtd_rotulo1 and qtd_rotulo2 > qtd_rotulo3):\n",
    "        #print('Classe 2')\n",
    "        #return 'Iris-versicolor'\n",
    "        return 'RiodeJaneiro'\n",
    "    elif (qtd_rotulo3 > qtd_rotulo1 and qtd_rotulo3 > qtd_rotulo2):\n",
    "        #print('Classe 3')\n",
    "        #return 'Iris-virginica'\n",
    "        return 'Curitiba'\n"
   ]
  },
  {
   "cell_type": "code",
   "execution_count": 61,
   "metadata": {},
   "outputs": [
    {
     "name": "stdout",
     "output_type": "stream",
     "text": [
      "[[3499.0, 1.0], [150.0, 1.0], [2389.0, 1.0], [2999.0, 1.0], [29599.0, 1.0], [1600.0, 1.0], [250.0, 1.0], [433.0, 1.0], [899.0, 1.0], [400.0, 1.0], [1199.0, 1.0], [599.0, 1.0], [1870.0, 1.0], [2199.0, 1.0], [139.0, 1.0], [390.0, 1.0], [5999.0, 1.0], [3999.0, 1.0], [12197.0, 1.0], [899.0, 2.0], [500.0, 2.0], [11999.0, 2.0], [699.0, 2.0], [850.0, 2.0], [559.0, 2.0], [860.0, 2.0], [1349.0, 2.0], [449.0, 2.0], [189.0, 2.0], [5699.0, 2.0], [949.0, 2.0], [1080.0, 2.0], [8999.0, 2.0], [4279.0, 2.0], [599.0, 2.0], [390.0, 2.0], [650.0, 2.0], [780.0, 2.0], [375.0, 2.0], [550.0, 3.0], [99.0, 3.0], [1590.0, 3.0], [1700.0, 3.0], [1290.0, 3.0], [499.0, 3.0], [70.0, 3.0], [600.0, 3.0], [490.0, 3.0], [1699.0, 3.0], [9100.0, 3.0], [1489.0, 3.0], [32999.0, 3.0], [362.0, 3.0], [980.0, 3.0], [1778.0, 3.0], [4499.0, 3.0], [2519.0, 3.0], [299.0, 3.0], [1050.0, 3.0], [2499.0, 4.0], [4999.0, 4.0], [499.0, 4.0], [1199.0, 4.0], [1173.0, 4.0], [800.0, 4.0], [7999.0, 4.0], [499.0, 4.0], [990.0, 4.0], [1499.0, 4.0], [1759.0, 4.0], [5899.0, 4.0], [33769.0, 4.0], [1089.0, 4.0], [6390.0, 4.0], [1380.0, 4.0], [2399.0, 4.0], [5699.0, 4.0], [990.0, 4.0], [849.0, 4.0], [640.0, 5.0], [16666.0, 5.0], [390.0, 5.0], [499.0, 5.0], [755.0, 5.0], [599.0, 5.0], [2498.0, 5.0], [2190.0, 5.0], [1899.0, 5.0], [539.0, 5.0], [19998.0, 5.0], [399.0, 5.0], [999.0, 5.0], [4389.0, 5.0], [8850.0, 5.0], [650.0, 5.0], [6999.0, 5.0], [569.0, 5.0], [939.0, 5.0], [9790.0, 5.0], [1198.0, 1.0], [1749.0, 1.0], [699.0, 1.0], [1880.0, 1.0], [16689.0, 1.0], [627.0, 1.0], [2299.0, 1.0], [2290.0, 1.0], [599.0, 1.0], [1549.0, 1.0], [290.0, 1.0], [599.0, 1.0], [34999.0, 1.0], [729.0, 1.0], [1899.0, 1.0], [7999.0, 1.0], [7299.0, 1.0], [9750.0, 1.0], [599.0, 1.0], [649.0, 1.0], [900.0, 2.0], [5699.0, 2.0], [2499.0, 2.0], [7074.0, 2.0], [4999.0, 2.0], [1899.0, 2.0], [1699.0, 2.0], [1290.0, 2.0], [1449.0, 2.0], [2900.0, 2.0], [1150.0, 2.0], [152.0, 2.0], [279.0, 2.0], [12996.0, 2.0], [950.0, 2.0], [980.0, 2.0], [238.0, 2.0], [2780.0, 2.0], [899.0, 2.0], [4696.0, 2.0], [5799.0, 3.0], [29999.0, 3.0], [1700.0, 3.0], [789.0, 3.0], [2399.0, 3.0], [5264.0, 3.0], [539.0, 3.0], [1519.0, 3.0], [319.0, 3.0], [1190.0, 3.0], [3299.0, 3.0], [13999.0, 3.0], [299.0, 3.0], [559.0, 3.0], [1260.0, 3.0], [720.0, 3.0], [189.0, 3.0], [14499.0, 3.0], [4999.0, 3.0], [1300.0, 3.0], [2232.0, 4.0], [2999.0, 4.0], [790.0, 4.0], [8699.0, 4.0], [1380.0, 4.0], [1999.0, 4.0], [1130.0, 4.0], [8499.0, 4.0], [5699.0, 4.0], [400.0, 4.0], [1399.0, 4.0], [749.0, 4.0], [899.0, 4.0], [568.0, 4.0], [299.0, 4.0], [1290.0, 4.0], [536.0, 4.0], [2149.0, 4.0], [550.0, 4.0], [3700.0, 4.0], [2499.0, 5.0], [161.0, 5.0], [96.0, 5.0], [1500.0, 5.0], [990.0, 5.0], [359.0, 5.0], [226.0, 5.0], [1039.0, 5.0], [1770.0, 5.0], [499.0, 5.0], [8499.0, 5.0], [4990.0, 5.0], [3862.0, 5.0], [2300.0, 5.0], [399.0, 5.0], [349.0, 5.0], [2877.0, 5.0], [219.0, 5.0], [5899.0, 5.0], [2489.0, 5.0], [13999.0, 1.0], [5699.0, 1.0], [1499.0, 1.0], [499.0, 1.0], [1109.0, 1.0], [9999.0, 1.0], [24035.0, 1.0], [379.0, 1.0], [849.0, 1.0], [290.0, 1.0], [400.0, 1.0], [8899.0, 1.0], [653.0, 1.0], [1299.0, 1.0], [1199.0, 1.0], [1900.0, 1.0], [3746.0, 1.0], [8999.0, 1.0], [4150.0, 1.0], [598.0, 1.0], [690.0, 2.0], [599.0, 2.0], [2411.0, 2.0], [1198.0, 2.0], [1790.0, 2.0], [1649.0, 2.0], [990.0, 2.0], [390.0, 2.0], [375.0, 2.0], [840.0, 2.0], [12999.0, 2.0], [4999.0, 2.0], [1249.0, 2.0], [515.0, 2.0], [3299.0, 2.0], [350.0, 2.0], [1440.0, 2.0], [490.0, 2.0], [1359.0, 2.0], [14999.0, 2.0], [82499.0, 3.0], [8295.0, 3.0], [3499.0, 3.0], [349.0, 3.0], [2500.0, 3.0], [749.0, 3.0], [447.0, 3.0], [249.0, 3.0], [1290.0, 3.0], [499.0, 3.0], [599.0, 3.0], [299.0, 3.0], [1359.0, 3.0], [1146.0, 3.0], [749.0, 3.0], [619.0, 3.0], [58999.0, 3.0], [3493.0, 3.0], [710.0, 3.0], [870.0, 3.0], [4220.0, 4.0], [320.0, 4.0], [899.0, 4.0], [899.0, 4.0], [18848.0, 4.0], [369.0, 4.0], [2689.0, 4.0], [2380.0, 4.0], [639.0, 4.0], [23999.0, 4.0], [940.0, 4.0], [290.0, 4.0], [699.0, 4.0], [10399.0, 4.0], [490.0, 4.0], [650.0, 4.0], [4200.0, 4.0], [1799.0, 4.0], [800.0, 4.0], [689.0, 4.0], [880.0, 5.0], [918.0, 5.0], [16999.0, 5.0], [1100.0, 5.0], [1969.0, 5.0], [700.0, 5.0], [599.0, 5.0], [1499.0, 5.0], [1040.0, 5.0], [550.0, 5.0], [470.0, 5.0], [649.0, 5.0], [438.0, 5.0], [799.0, 5.0], [2990.0, 5.0], [15499.0, 5.0], [499.0, 5.0], [350.0, 5.0], [11999.0, 5.0], [2050.0, 5.0]]\n",
      "True\n",
      "Total de amostras: 299\n",
      "amostras: [[3499.0, 1.0], [150.0, 1.0], [2389.0, 1.0], [2999.0, 1.0], [29599.0, 1.0], [1600.0, 1.0], [250.0, 1.0], [433.0, 1.0], [899.0, 1.0], [400.0, 1.0], [1199.0, 1.0], [599.0, 1.0], [1870.0, 1.0], [2199.0, 1.0], [139.0, 1.0], [390.0, 1.0], [5999.0, 1.0], [3999.0, 1.0], [12197.0, 1.0], [899.0, 2.0], [500.0, 2.0], [11999.0, 2.0], [699.0, 2.0], [850.0, 2.0], [559.0, 2.0], [860.0, 2.0], [1349.0, 2.0], [449.0, 2.0], [189.0, 2.0], [5699.0, 2.0], [949.0, 2.0], [1080.0, 2.0], [8999.0, 2.0], [4279.0, 2.0], [599.0, 2.0], [390.0, 2.0], [650.0, 2.0], [780.0, 2.0], [375.0, 2.0], [550.0, 3.0], [99.0, 3.0], [1590.0, 3.0], [1700.0, 3.0], [1290.0, 3.0], [499.0, 3.0], [70.0, 3.0], [600.0, 3.0], [490.0, 3.0], [1699.0, 3.0], [9100.0, 3.0], [1489.0, 3.0], [32999.0, 3.0], [362.0, 3.0], [980.0, 3.0], [1778.0, 3.0], [4499.0, 3.0], [2519.0, 3.0], [299.0, 3.0], [1050.0, 3.0], [2499.0, 4.0], [4999.0, 4.0], [499.0, 4.0], [1199.0, 4.0], [1173.0, 4.0], [800.0, 4.0], [7999.0, 4.0], [499.0, 4.0], [990.0, 4.0], [1499.0, 4.0], [1759.0, 4.0], [5899.0, 4.0], [33769.0, 4.0], [1089.0, 4.0], [6390.0, 4.0], [1380.0, 4.0], [2399.0, 4.0], [5699.0, 4.0], [990.0, 4.0], [849.0, 4.0], [640.0, 5.0], [16666.0, 5.0], [390.0, 5.0], [499.0, 5.0], [755.0, 5.0], [599.0, 5.0], [2498.0, 5.0], [2190.0, 5.0], [1899.0, 5.0], [539.0, 5.0], [19998.0, 5.0], [399.0, 5.0], [999.0, 5.0], [4389.0, 5.0], [8850.0, 5.0], [650.0, 5.0], [6999.0, 5.0], [569.0, 5.0], [939.0, 5.0], [9790.0, 5.0], [1198.0, 1.0], [1749.0, 1.0], [699.0, 1.0], [1880.0, 1.0], [16689.0, 1.0], [627.0, 1.0], [2299.0, 1.0], [2290.0, 1.0], [599.0, 1.0], [1549.0, 1.0], [290.0, 1.0], [599.0, 1.0], [34999.0, 1.0], [729.0, 1.0], [1899.0, 1.0], [7999.0, 1.0], [7299.0, 1.0], [9750.0, 1.0], [599.0, 1.0], [649.0, 1.0], [900.0, 2.0], [5699.0, 2.0], [2499.0, 2.0], [7074.0, 2.0], [4999.0, 2.0], [1899.0, 2.0], [1699.0, 2.0], [1290.0, 2.0], [1449.0, 2.0], [2900.0, 2.0], [1150.0, 2.0], [152.0, 2.0], [279.0, 2.0], [12996.0, 2.0], [950.0, 2.0], [980.0, 2.0], [238.0, 2.0], [2780.0, 2.0], [899.0, 2.0], [4696.0, 2.0], [5799.0, 3.0], [29999.0, 3.0], [1700.0, 3.0], [789.0, 3.0], [2399.0, 3.0], [5264.0, 3.0], [539.0, 3.0], [1519.0, 3.0], [319.0, 3.0], [1190.0, 3.0], [3299.0, 3.0], [13999.0, 3.0], [299.0, 3.0], [559.0, 3.0], [1260.0, 3.0], [720.0, 3.0], [189.0, 3.0], [14499.0, 3.0], [4999.0, 3.0], [1300.0, 3.0], [2232.0, 4.0], [2999.0, 4.0], [790.0, 4.0], [8699.0, 4.0], [1380.0, 4.0], [1999.0, 4.0], [1130.0, 4.0], [8499.0, 4.0], [5699.0, 4.0], [400.0, 4.0], [1399.0, 4.0], [749.0, 4.0], [899.0, 4.0], [568.0, 4.0], [299.0, 4.0], [1290.0, 4.0], [536.0, 4.0], [2149.0, 4.0], [550.0, 4.0], [3700.0, 4.0], [2499.0, 5.0], [161.0, 5.0], [96.0, 5.0], [1500.0, 5.0], [990.0, 5.0], [359.0, 5.0], [226.0, 5.0], [1039.0, 5.0], [1770.0, 5.0], [499.0, 5.0], [8499.0, 5.0], [4990.0, 5.0], [3862.0, 5.0], [2300.0, 5.0], [399.0, 5.0], [349.0, 5.0], [2877.0, 5.0], [219.0, 5.0], [5899.0, 5.0], [2489.0, 5.0], [13999.0, 1.0], [5699.0, 1.0], [1499.0, 1.0], [499.0, 1.0], [1109.0, 1.0], [9999.0, 1.0], [24035.0, 1.0], [379.0, 1.0], [849.0, 1.0], [290.0, 1.0], [400.0, 1.0], [8899.0, 1.0], [653.0, 1.0], [1299.0, 1.0], [1199.0, 1.0], [1900.0, 1.0], [3746.0, 1.0], [8999.0, 1.0], [4150.0, 1.0], [598.0, 1.0], [690.0, 2.0], [599.0, 2.0], [2411.0, 2.0], [1198.0, 2.0], [1790.0, 2.0], [1649.0, 2.0], [990.0, 2.0], [390.0, 2.0], [375.0, 2.0], [840.0, 2.0], [12999.0, 2.0], [4999.0, 2.0], [1249.0, 2.0], [515.0, 2.0], [3299.0, 2.0], [350.0, 2.0], [1440.0, 2.0], [490.0, 2.0], [1359.0, 2.0], [14999.0, 2.0], [82499.0, 3.0], [8295.0, 3.0], [3499.0, 3.0], [349.0, 3.0], [2500.0, 3.0], [749.0, 3.0], [447.0, 3.0], [249.0, 3.0], [1290.0, 3.0], [499.0, 3.0], [599.0, 3.0], [299.0, 3.0], [1359.0, 3.0], [1146.0, 3.0], [749.0, 3.0], [619.0, 3.0], [58999.0, 3.0], [3493.0, 3.0], [710.0, 3.0], [870.0, 3.0], [4220.0, 4.0], [320.0, 4.0], [899.0, 4.0], [899.0, 4.0], [18848.0, 4.0], [369.0, 4.0], [2689.0, 4.0], [2380.0, 4.0], [639.0, 4.0], [23999.0, 4.0], [940.0, 4.0], [290.0, 4.0], [699.0, 4.0], [10399.0, 4.0], [490.0, 4.0], [650.0, 4.0], [4200.0, 4.0], [1799.0, 4.0], [800.0, 4.0], [689.0, 4.0], [880.0, 5.0], [918.0, 5.0], [16999.0, 5.0], [1100.0, 5.0], [1969.0, 5.0], [700.0, 5.0], [599.0, 5.0], [1499.0, 5.0], [1040.0, 5.0], [550.0, 5.0], [470.0, 5.0], [649.0, 5.0], [438.0, 5.0], [799.0, 5.0], [2990.0, 5.0], [15499.0, 5.0], [499.0, 5.0], [350.0, 5.0], [11999.0, 5.0], [2050.0, 5.0]]\n"
     ]
    },
    {
     "ename": "UnboundLocalError",
     "evalue": "local variable 'amostra' referenced before assignment",
     "output_type": "error",
     "traceback": [
      "\u001b[1;31m---------------------------------------------------------------------------\u001b[0m",
      "\u001b[1;31mUnboundLocalError\u001b[0m                         Traceback (most recent call last)",
      "\u001b[1;32m<ipython-input-61-b59a1c3749e5>\u001b[0m in \u001b[0;36m<module>\u001b[1;34m\u001b[0m\n\u001b[0;32m     15\u001b[0m \u001b[1;31m# Guardar totais de cada rótulo/classe\u001b[0m\u001b[1;33m\u001b[0m\u001b[1;33m\u001b[0m\u001b[1;33m\u001b[0m\u001b[0m\n\u001b[0;32m     16\u001b[0m \u001b[0mprint\u001b[0m\u001b[1;33m(\u001b[0m\u001b[0mamostras\u001b[0m\u001b[1;33m)\u001b[0m\u001b[1;33m\u001b[0m\u001b[1;33m\u001b[0m\u001b[0m\n\u001b[1;32m---> 17\u001b[1;33m \u001b[0m_\u001b[0m\u001b[1;33m,\u001b[0m \u001b[0mrotulo1\u001b[0m\u001b[1;33m,\u001b[0m \u001b[0mrotulo2\u001b[0m\u001b[1;33m,\u001b[0m \u001b[0mrotulo3\u001b[0m \u001b[1;33m=\u001b[0m \u001b[0minfo_dataset\u001b[0m\u001b[1;33m(\u001b[0m\u001b[0mamostras\u001b[0m\u001b[1;33m,\u001b[0m \u001b[0mverbose\u001b[0m\u001b[1;33m=\u001b[0m\u001b[1;32mTrue\u001b[0m\u001b[1;33m)\u001b[0m\u001b[1;33m\u001b[0m\u001b[1;33m\u001b[0m\u001b[0m\n\u001b[0m",
      "\u001b[1;32m<ipython-input-57-fa40a83ec09d>\u001b[0m in \u001b[0;36minfo_dataset\u001b[1;34m(amostras, verbose)\u001b[0m\n\u001b[0;32m      8\u001b[0m     \u001b[0mrotulo1\u001b[0m\u001b[1;33m,\u001b[0m \u001b[0mrotulo2\u001b[0m\u001b[1;33m,\u001b[0m \u001b[0mrotulo3\u001b[0m \u001b[1;33m=\u001b[0m \u001b[1;36m0\u001b[0m\u001b[1;33m,\u001b[0m \u001b[1;36m0\u001b[0m\u001b[1;33m,\u001b[0m \u001b[1;36m0\u001b[0m\u001b[1;33m\u001b[0m\u001b[1;33m\u001b[0m\u001b[0m\n\u001b[0;32m      9\u001b[0m     \u001b[0mprint\u001b[0m\u001b[1;33m(\u001b[0m\u001b[1;34m'amostras:'\u001b[0m\u001b[1;33m,\u001b[0m \u001b[0mamostras\u001b[0m\u001b[1;33m)\u001b[0m\u001b[1;33m\u001b[0m\u001b[1;33m\u001b[0m\u001b[0m\n\u001b[1;32m---> 10\u001b[1;33m     \u001b[0mprint\u001b[0m\u001b[1;33m(\u001b[0m\u001b[1;34m'amostra:'\u001b[0m\u001b[1;33m,\u001b[0m \u001b[0mamostra\u001b[0m\u001b[1;33m)\u001b[0m\u001b[1;33m\u001b[0m\u001b[1;33m\u001b[0m\u001b[0m\n\u001b[0m\u001b[0;32m     11\u001b[0m     \u001b[1;32mfor\u001b[0m \u001b[0mamostra\u001b[0m \u001b[1;32min\u001b[0m \u001b[0mamostras\u001b[0m\u001b[1;33m:\u001b[0m\u001b[1;33m\u001b[0m\u001b[1;33m\u001b[0m\u001b[0m\n\u001b[0;32m     12\u001b[0m         \u001b[0mprint\u001b[0m\u001b[1;33m(\u001b[0m\u001b[0mamostra\u001b[0m\u001b[1;33m[\u001b[0m\u001b[1;33m-\u001b[0m\u001b[1;36m1\u001b[0m\u001b[1;33m]\u001b[0m\u001b[1;33m)\u001b[0m\u001b[1;33m\u001b[0m\u001b[1;33m\u001b[0m\u001b[0m\n",
      "\u001b[1;31mUnboundLocalError\u001b[0m: local variable 'amostra' referenced before assignment"
     ]
    }
   ],
   "source": [
    "######################### PROGRAMA #########################\n",
    "\n",
    "# Inicialização da lista de amostras\n",
    "amostras = []\n",
    "\n",
    "# Carregar dados de arquivo CSV com amostras\n",
    "#with open('iris.data2', 'r') as f:\n",
    "with open('F:\\\\py\\\\Produtos_4_1.csv', 'r') as f:\n",
    "    #ler arquivo linha por linha\n",
    "    for linha in f.readlines():\n",
    "        # obter os atributos da amostra\n",
    "        atrib = linha.replace('\\n','').split(',')\n",
    "        #amostras.append([float(atrib[0]), float(atrib[1]), float(atrib[2]), float(atrib[3]), atrib[4]])\n",
    "        amostras.append([float(atrib[0]), float(atrib[2])])\n",
    "# Guardar totais de cada rótulo/classe\n",
    "print(amostras)\n",
    "_, rotulo1, rotulo2, rotulo3 = info_dataset(amostras, verbose=True)\n"
   ]
  },
  {
   "cell_type": "code",
   "execution_count": 18,
   "metadata": {},
   "outputs": [],
   "source": [
    "# Separar 60% dos dados para treinamento e o restante fica para testar\n",
    "p = 0.6\n",
    "treinamento, teste = [], []\n",
    "cont = 1\n",
    "max_rotulo1, max_rotulo2, max_rotulo3 = int(p*rotulo1), int(p*rotulo2), int(p*rotulo3)\n",
    "total_rotulo1, total_rotulo2 , total_rotulo3 = 0, 0, 0\n",
    "for amostra in amostras:\n",
    "    if cont <= (max_rotulo1 + max_rotulo2 + max_rotulo3):\n",
    "        treinamento.append(amostra)\n",
    "        #if amostra[-1] == 'Iris-setosa' and total_rotulo1 < max_rotulo1:\n",
    "        if amostra[-1] == 'SaoPaulo' and total_rotulo1 < max_rotulo1:\n",
    "            total_rotulo1 += 1\n",
    "        #elif amostra[-1] == 'Iris-versicolor' and total_rotulo2 < max_rotulo2:\n",
    "        elif amostra[-1] == 'RiodeJaneiro' and total_rotulo2 < max_rotulo2:\n",
    "            total_rotulo2 += 1\n",
    "       # elif amostra[-1] == 'Iris-virginica' and total_rotulo3 < max_rotulo3:\n",
    "        elif amostra[-1] == 'Curitiba' and total_rotulo3 < max_rotulo3:\n",
    "            total_rotulo3 += 1\n",
    "        else:\n",
    "            teste.append(amostra)\n",
    "    cont += 1\n"
   ]
  },
  {
   "cell_type": "code",
   "execution_count": 19,
   "metadata": {},
   "outputs": [
    {
     "name": "stdout",
     "output_type": "stream",
     "text": [
      "Total de treinamento: 0\n",
      "Total de testes: 0\n",
      "Total de acertos: 0\n"
     ]
    },
    {
     "ename": "ZeroDivisionError",
     "evalue": "division by zero",
     "output_type": "error",
     "traceback": [
      "\u001b[1;31m---------------------------------------------------------------------------\u001b[0m",
      "\u001b[1;31mZeroDivisionError\u001b[0m                         Traceback (most recent call last)",
      "\u001b[1;32m<ipython-input-19-40cad96a7fc9>\u001b[0m in \u001b[0;36m<module>\u001b[1;34m\u001b[0m\n\u001b[0;32m     12\u001b[0m \u001b[0mprint\u001b[0m\u001b[1;33m(\u001b[0m\u001b[1;34m'Total de testes: %d'\u001b[0m \u001b[1;33m%\u001b[0m \u001b[0mlen\u001b[0m\u001b[1;33m(\u001b[0m\u001b[0mteste\u001b[0m\u001b[1;33m)\u001b[0m\u001b[1;33m)\u001b[0m\u001b[1;33m\u001b[0m\u001b[1;33m\u001b[0m\u001b[0m\n\u001b[0;32m     13\u001b[0m \u001b[0mprint\u001b[0m\u001b[1;33m(\u001b[0m\u001b[1;34m'Total de acertos: %d'\u001b[0m \u001b[1;33m%\u001b[0m \u001b[0macertos\u001b[0m\u001b[1;33m)\u001b[0m\u001b[1;33m\u001b[0m\u001b[1;33m\u001b[0m\u001b[0m\n\u001b[1;32m---> 14\u001b[1;33m \u001b[0mprint\u001b[0m\u001b[1;33m(\u001b[0m\u001b[1;34m'Porcentagem de acertos: %.2f%%'\u001b[0m \u001b[1;33m%\u001b[0m \u001b[1;33m(\u001b[0m\u001b[1;36m100\u001b[0m \u001b[1;33m*\u001b[0m \u001b[0macertos\u001b[0m \u001b[1;33m/\u001b[0m \u001b[0mlen\u001b[0m\u001b[1;33m(\u001b[0m\u001b[0mteste\u001b[0m\u001b[1;33m)\u001b[0m\u001b[1;33m)\u001b[0m\u001b[1;33m)\u001b[0m\u001b[1;33m\u001b[0m\u001b[1;33m\u001b[0m\u001b[0m\n\u001b[0m",
      "\u001b[1;31mZeroDivisionError\u001b[0m: division by zero"
     ]
    }
   ],
   "source": [
    "# Testar com as amostras do conjunto de teste\n",
    "acertos = 0\n",
    "K = 3\n",
    "for amostra in teste:\n",
    "    classe = knn(treinamento, amostra, K)\n",
    "    #print('%s X %s' % (amostra[-1], classe))\n",
    "    #sys.exit(\"fim de teste\")\n",
    "    if amostra[-1] == classe:\n",
    "        acertos += 1\n",
    "\n",
    "print('Total de treinamento: %d' % len(treinamento))\n",
    "print('Total de testes: %d' % len(teste))\n",
    "print('Total de acertos: %d' % acertos)\n",
    "print('Porcentagem de acertos: %.2f%%' % (100 * acertos / len(teste)))"
   ]
  },
  {
   "cell_type": "code",
   "execution_count": null,
   "metadata": {},
   "outputs": [],
   "source": []
  }
 ],
 "metadata": {
  "kernelspec": {
   "display_name": "Python 3",
   "language": "python",
   "name": "python3"
  },
  "language_info": {
   "codemirror_mode": {
    "name": "ipython",
    "version": 3
   },
   "file_extension": ".py",
   "mimetype": "text/x-python",
   "name": "python",
   "nbconvert_exporter": "python",
   "pygments_lexer": "ipython3",
   "version": "3.7.2"
  }
 },
 "nbformat": 4,
 "nbformat_minor": 2
}
