{
 "cells": [
  {
   "cell_type": "markdown",
   "metadata": {},
   "source": [
    "# Hello World of Machine Learning\n",
    "The best small project to start with on a new tool is the classification of iris flowers (e.g. the iris dataset).\n",
    "\n",
    "Attributes are numeric so you have to figure out how to load and handle data.\n",
    "It is a classification problem, allowing you to practice with perhaps an easier type of supervised learning algorithm.\n",
    "It is a multi-class classification problem (multi-nominal) that may require some specialized handling.\n",
    "It only has 4 attributes and 150 rows, meaning it is small and easily fits into memory (and a screen or A4 page).\n",
    "All of the numeric attributes are in the same units and the same scale, not requiring any special scaling or transforms to get started.\n",
    "Let’s get started with your hello world machine learning project in Python."
   ]
  },
  {
   "cell_type": "markdown",
   "metadata": {},
   "source": [
    "# Check Versions"
   ]
  },
  {
   "cell_type": "code",
   "execution_count": 1,
   "metadata": {},
   "outputs": [
    {
     "name": "stdout",
     "output_type": "stream",
     "text": [
      "Python: 3.7.2 (tags/v3.7.2:9a3ffc0492, Dec 23 2018, 23:09:28) [MSC v.1916 64 bit (AMD64)]\n",
      "numpy: 1.16.0\n",
      "matplotlib: 3.0.2\n",
      "pandas: 0.23.4\n",
      "sklearn: 0.20.2\n"
     ]
    }
   ],
   "source": [
    "# Python version\n",
    "import sys\n",
    "print('Python: {}'.format(sys.version))\n",
    "\n",
    "# numpy\n",
    "import numpy\n",
    "print('numpy: {}'.format(numpy.__version__))\n",
    "\n",
    "# matplotlib\n",
    "import matplotlib\n",
    "print('matplotlib: {}'.format(matplotlib.__version__))\n",
    "\n",
    "# pandas\n",
    "import pandas\n",
    "print('pandas: {}'.format(pandas.__version__))\n",
    "\n",
    "# scikit-learn\n",
    "import sklearn\n",
    "print('sklearn: {}'.format(sklearn.__version__))"
   ]
  },
  {
   "cell_type": "markdown",
   "metadata": {},
   "source": [
    "#  Start Python and Import libraries"
   ]
  },
  {
   "cell_type": "code",
   "execution_count": 6,
   "metadata": {},
   "outputs": [],
   "source": [
    "import pandas as pd\n",
    "import numpy as np\n",
    "from pandas.plotting import scatter_matrix\n",
    "import matplotlib.pyplot as plt\n",
    "from sklearn import model_selection\n",
    "from sklearn.metrics import classification_report\n",
    "from sklearn.metrics import confusion_matrix\n",
    "from sklearn.metrics import accuracy_score\n",
    "from sklearn.linear_model import LogisticRegression\n",
    "from sklearn.tree import DecisionTreeClassifier\n",
    "from sklearn.neighbors import KNeighborsClassifier\n",
    "from sklearn.discriminant_analysis import LinearDiscriminantAnalysis\n",
    "from sklearn.naive_bayes import GaussianNB\n",
    "from sklearn.svm import SVC"
   ]
  },
  {
   "cell_type": "markdown",
   "metadata": {},
   "source": [
    "# Load dataset"
   ]
  },
  {
   "cell_type": "code",
   "execution_count": 33,
   "metadata": {},
   "outputs": [],
   "source": [
    "\n",
    "#url = \"https://archive.ics.uci.edu/ml/machine-learning-databases/iris/iris.data\"\n",
    "#names = ['sepal-length', 'sepal-width', 'petal-length', 'petal-width', 'class']\n",
    "#dataset = pandas.read_csv(url, names=names)\n",
    "\n",
    "names = ['order_products_value', 'customer_city', 'product_category_name']\n",
    "dataset = pandas.read_csv('F:\\\\py\\\\Produtos_4.csv', names=names)"
   ]
  },
  {
   "cell_type": "markdown",
   "metadata": {},
   "source": [
    "# Dimensions of Dataset"
   ]
  },
  {
   "cell_type": "code",
   "execution_count": 34,
   "metadata": {},
   "outputs": [
    {
     "name": "stdout",
     "output_type": "stream",
     "text": [
      "(299, 3)\n"
     ]
    }
   ],
   "source": [
    "# shape\n",
    "print(dataset.shape)"
   ]
  },
  {
   "cell_type": "markdown",
   "metadata": {},
   "source": [
    "# show the data head"
   ]
  },
  {
   "cell_type": "code",
   "execution_count": 35,
   "metadata": {},
   "outputs": [
    {
     "name": "stdout",
     "output_type": "stream",
     "text": [
      "     order_products_value  customer_city  product_category_name\n",
      "279                   880              3                      5\n",
      "280                   918              3                      5\n",
      "281                 16999              3                      5\n",
      "282                  1100              3                      5\n",
      "283                  1969              3                      5\n",
      "284                   700              3                      5\n",
      "285                   599              3                      5\n",
      "286                  1499              3                      5\n",
      "287                  1040              3                      5\n",
      "288                   550              3                      5\n",
      "289                   470              3                      5\n",
      "290                   649              3                      5\n",
      "291                   438              3                      5\n",
      "292                   799              3                      5\n",
      "293                  2990              3                      5\n",
      "294                 15499              3                      5\n",
      "295                   499              3                      5\n",
      "296                   350              3                      5\n",
      "297                 11999              3                      5\n",
      "298                  2050              3                      5\n"
     ]
    }
   ],
   "source": [
    "\n",
    "print(dataset.tail(20))"
   ]
  },
  {
   "cell_type": "code",
   "execution_count": 61,
   "metadata": {},
   "outputs": [
    {
     "name": "stdout",
     "output_type": "stream",
     "text": [
      "product_category_name\n",
      "1    59\n",
      "2    60\n",
      "3    60\n",
      "4    60\n",
      "5    60\n",
      "dtype: int64\n",
      "customer_city\n",
      "1     99\n",
      "2    101\n",
      "3     99\n",
      "dtype: int64\n"
     ]
    }
   ],
   "source": [
    "# class distribution\n",
    "print(dataset.groupby('product_category_name').size())\n",
    "print(dataset.groupby('customer_city').size())"
   ]
  },
  {
   "cell_type": "code",
   "execution_count": 62,
   "metadata": {},
   "outputs": [
    {
     "data": {
      "image/png": "[encoded data removed]",
      "text/plain": [
       "<Figure size 432x288 with 4 Axes>"
      ]
     },
     "metadata": {
      "needs_background": "light"
     },
     "output_type": "display_data"
    }
   ],
   "source": [
    "# histograms\n",
    "dataset.hist()\n",
    "plt.show()"
   ]
  },
  {
   "cell_type": "code",
   "execution_count": 64,
   "metadata": {},
   "outputs": [
    {
     "data": {
      "image/png": "[encoded data removed]",
      "text/plain": [
       "<Figure size 432x288 with 9 Axes>"
      ]
     },
     "metadata": {
      "needs_background": "light"
     },
     "output_type": "display_data"
    }
   ],
   "source": [
    "# scatter plot matrix\n",
    "scatter_matrix(dataset)\n",
    "plt.show()"
   ]
  },
  {
   "cell_type": "code",
   "execution_count": 70,
   "metadata": {},
   "outputs": [
    {
     "data": {
      "image/png": "[encoded data removed]",
      "text/plain": [
       "<Figure size 432x288 with 1 Axes>"
      ]
     },
     "metadata": {
      "needs_background": "light"
     },
     "output_type": "display_data"
    },
    {
     "data": {
      "image/png": "[encoded data removed]",
      "text/plain": [
       "<Figure size 432x288 with 1 Axes>"
      ]
     },
     "metadata": {
      "needs_background": "light"
     },
     "output_type": "display_data"
    }
   ],
   "source": [
    "#df = pd.DataFrame(np.random.rand(50, 4), columns=['a', 'b', 'c', 'd'])\n",
    "\n",
    "#df.plot.scatter(x='a', y='b');\n",
    "dataset.plot.scatter(x='product_category_name', y='order_products_value');\n",
    "                  \n",
    "ax = dataset.plot.scatter(x='order_products_value', y='product_category_name', color='DarkBlue', label='Group 1');\n",
    "dataset.plot.scatter(x='product_category_name', y='customer_city', color='DarkGreen', label='Group 2', ax=ax);\n"
   ]
  },
  {
   "cell_type": "code",
   "execution_count": 54,
   "metadata": {},
   "outputs": [
    {
     "name": "stdout",
     "output_type": "stream",
     "text": [
      "X_train [[  499     2]\n",
      " [  650     1]\n",
      " [ 1290     2]\n",
      " [  349     3]\n",
      " [  849     1]\n",
      " [  619     3]\n",
      " [  599     1]\n",
      " [ 1290     2]\n",
      " [  870     3]\n",
      " [  550     3]\n",
      " [  559     1]\n",
      " [ 1199     1]\n",
      " [  599     3]\n",
      " [  399     1]\n",
      " [ 1489     1]\n",
      " [ 7999     2]\n",
      " [ 2999     2]\n",
      " [12996     2]\n",
      " [  499     1]\n",
      " [  299     2]\n",
      " [  379     3]\n",
      " [ 1759     1]\n",
      " [  650     1]\n",
      " [   99     1]\n",
      " [ 8999     3]\n",
      " [  599     1]\n",
      " [  639     3]\n",
      " [ 4999     3]\n",
      " [ 2050     3]\n",
      " [13999     2]\n",
      " [ 4990     2]\n",
      " [ 1440     3]\n",
      " [  600     1]\n",
      " [  490     3]\n",
      " [  599     3]\n",
      " [ 5799     2]\n",
      " [ 3746     3]\n",
      " [ 1700     2]\n",
      " [  599     3]\n",
      " [  390     1]\n",
      " [  433     1]\n",
      " [ 4220     3]\n",
      " [11999     3]\n",
      " [  940     3]\n",
      " [  790     2]\n",
      " [  880     3]\n",
      " [19998     1]\n",
      " [  650     3]\n",
      " [  939     1]\n",
      " [  899     1]\n",
      " [  189     1]\n",
      " [  449     1]\n",
      " [  362     1]\n",
      " [  899     3]\n",
      " [ 1050     1]\n",
      " [  699     3]\n",
      " [  359     2]\n",
      " [ 1190     2]\n",
      " [  899     3]\n",
      " [ 1150     2]\n",
      " [  749     3]\n",
      " [ 2499     2]\n",
      " [ 1899     2]\n",
      " [  350     3]\n",
      " [ 1359     3]\n",
      " [16666     1]\n",
      " [  139     1]\n",
      " [ 1080     1]\n",
      " [  150     1]\n",
      " [ 1260     2]\n",
      " [ 2199     1]\n",
      " [  400     1]\n",
      " [ 1799     3]\n",
      " [ 6999     1]\n",
      " [  599     1]\n",
      " [  569     1]\n",
      " [  470     3]\n",
      " [  899     2]\n",
      " [14499     2]\n",
      " [  375     3]\n",
      " [   70     1]\n",
      " [  399     2]\n",
      " [ 8999     1]\n",
      " [  990     1]\n",
      " [ 8899     3]\n",
      " [  950     2]\n",
      " [ 5264     2]\n",
      " [ 1173     1]\n",
      " [  499     1]\n",
      " [15499     3]\n",
      " [ 9999     3]\n",
      " [ 1299     3]\n",
      " [ 1590     1]\n",
      " [   96     2]\n",
      " [  290     2]\n",
      " [  349     2]\n",
      " [13999     2]\n",
      " [ 2499     2]\n",
      " [32999     1]\n",
      " [ 2519     1]\n",
      " [14999     3]\n",
      " [ 1300     2]\n",
      " [ 2498     1]\n",
      " [ 5699     2]\n",
      " [ 1100     3]\n",
      " [  700     3]\n",
      " [  568     2]\n",
      " [  290     3]\n",
      " [ 2380     3]\n",
      " [ 1899     1]\n",
      " [ 1130     2]\n",
      " [ 2299     2]\n",
      " [ 1969     3]\n",
      " [ 9100     1]\n",
      " [ 2489     2]\n",
      " [ 1600     1]\n",
      " [ 3999     1]\n",
      " [ 1198     3]\n",
      " [ 9750     2]\n",
      " [ 4150     3]\n",
      " [ 2290     2]\n",
      " [ 8699     2]\n",
      " [  980     2]\n",
      " [ 1790     3]\n",
      " [  800     1]\n",
      " [ 1349     1]\n",
      " [ 5899     2]\n",
      " [ 1399     2]\n",
      " [  161     2]\n",
      " [58999     3]\n",
      " [  238     2]\n",
      " [  918     3]\n",
      " [ 3493     3]\n",
      " [  599     2]\n",
      " [ 8499     2]\n",
      " [24035     3]\n",
      " [ 2780     2]\n",
      " [ 5699     1]\n",
      " [  640     1]\n",
      " [29999     2]\n",
      " [ 4999     2]\n",
      " [  279     2]\n",
      " [  550     1]\n",
      " [  515     3]\n",
      " [  849     3]\n",
      " [ 1778     1]\n",
      " [ 5699     3]\n",
      " [ 1290     1]\n",
      " [  249     3]\n",
      " [ 1699     1]\n",
      " [  390     1]\n",
      " [ 2499     1]\n",
      " [ 2399     2]\n",
      " [  980     1]\n",
      " [  500     1]\n",
      " [ 1899     2]\n",
      " [  789     2]\n",
      " [  599     2]\n",
      " [  840     3]\n",
      " [ 5699     1]\n",
      " [  290     3]\n",
      " [  599     2]\n",
      " [ 8850     1]\n",
      " [ 1870     1]\n",
      " [ 5999     1]\n",
      " [  490     1]\n",
      " [ 1039     2]\n",
      " [ 1109     3]\n",
      " [  369     3]\n",
      " [  900     2]\n",
      " [11999     1]\n",
      " [ 1519     2]\n",
      " [ 3700     2]\n",
      " [  755     1]\n",
      " [  152     2]\n",
      " [ 2232     2]\n",
      " [ 1449     2]\n",
      " [  400     3]\n",
      " [ 2411     3]\n",
      " [ 6390     1]\n",
      " [12999     3]\n",
      " [  799     3]\n",
      " [  949     1]\n",
      " [16999     3]\n",
      " [ 4279     1]\n",
      " [  499     3]\n",
      " [29599     1]\n",
      " [  189     2]\n",
      " [  899     1]\n",
      " [  749     3]\n",
      " [  690     3]\n",
      " [ 4999     2]\n",
      " [  499     3]\n",
      " [  990     3]\n",
      " [ 1380     2]\n",
      " [ 1749     2]\n",
      " [ 3299     2]\n",
      " [ 1649     3]\n",
      " [ 1290     3]\n",
      " [ 2689     3]\n",
      " [  299     2]\n",
      " [ 3299     3]\n",
      " [ 1199     1]\n",
      " [33769     1]\n",
      " [ 1146     3]\n",
      " [ 4389     1]\n",
      " [ 2300     2]\n",
      " [  710     3]\n",
      " [  649     3]\n",
      " [ 2877     2]\n",
      " [  899     2]\n",
      " [  320     3]\n",
      " [  375     1]\n",
      " [ 1499     3]\n",
      " [ 8499     2]\n",
      " [ 1359     3]\n",
      " [  729     2]\n",
      " [  990     2]\n",
      " [  559     2]\n",
      " [ 3862     2]\n",
      " [  499     1]\n",
      " [ 4200     3]\n",
      " [  250     1]\n",
      " [  299     3]\n",
      " [ 2399     1]\n",
      " [ 3499     1]\n",
      " [ 1499     1]\n",
      " [ 5699     2]\n",
      " [  598     3]\n",
      " [ 1700     1]\n",
      " [ 1089     1]\n",
      " [  850     1]\n",
      " [  226     2]\n",
      " [16689     2]\n",
      " [  653     3]\n",
      " [  990     1]\n",
      " [  860     1]\n",
      " [  219     2]\n",
      " [  536     2]]\n",
      "X_validation [[23999     3]\n",
      " [ 8295     3]\n",
      " [  689     3]\n",
      " [ 2149     2]\n",
      " [  499     3]\n",
      " [ 9790     1]\n",
      " [ 1699     2]\n",
      " [ 2990     3]\n",
      " [ 2999     1]\n",
      " [ 2900     2]\n",
      " [ 2500     3]\n",
      " [  447     3]\n",
      " [ 5899     1]\n",
      " [  999     1]\n",
      " [  299     1]\n",
      " [ 1499     3]\n",
      " [  438     3]\n",
      " [  550     2]\n",
      " [ 7299     2]\n",
      " [ 1549     2]\n",
      " [34999     2]\n",
      " [ 4499     1]\n",
      " [  627     2]\n",
      " [  699     2]\n",
      " [ 2389     1]\n",
      " [  350     3]\n",
      " [ 1249     3]\n",
      " [ 1380     1]\n",
      " [ 4696     2]\n",
      " [18848     3]\n",
      " [  649     2]\n",
      " [ 7074     2]\n",
      " [  749     2]\n",
      " [  390     3]\n",
      " [  490     3]\n",
      " [ 1999     2]\n",
      " [  780     1]\n",
      " [10399     3]\n",
      " [  539     1]\n",
      " [ 1880     2]\n",
      " [82499     3]\n",
      " [ 1770     2]\n",
      " [12197     1]\n",
      " [ 1900     3]\n",
      " [  539     2]\n",
      " [ 1040     3]\n",
      " [  400     2]\n",
      " [ 1500     2]\n",
      " [  699     1]\n",
      " [ 1198     2]\n",
      " [ 1199     3]\n",
      " [  319     2]\n",
      " [  720     2]\n",
      " [ 7999     1]\n",
      " [ 4999     1]\n",
      " [  499     1]\n",
      " [ 3499     3]\n",
      " [  390     1]\n",
      " [ 2190     1]\n",
      " [  800     3]]\n",
      "Y_train [5 5 2 3 4 3 5 4 3 5 2 4 3 5 3 1 4 2 4 4 1 4 2 3 1 1 4 2 5 3 5 2 3 4 2 3 1\n",
      " 3 5 1 1 4 5 4 4 5 5 4 5 1 2 2 3 4 3 4 5 3 4 2 3 5 1 5 2 5 1 2 1 3 1 1 4 5\n",
      " 2 5 5 4 3 2 3 5 2 4 1 2 3 4 5 5 1 1 3 5 1 5 1 2 3 3 2 3 5 2 5 5 4 1 4 5 4\n",
      " 1 5 3 5 1 1 2 1 1 1 4 2 2 4 2 5 4 5 3 2 5 3 1 4 1 2 2 5 3 3 2 3 2 1 3 1 3\n",
      " 3 3 2 4 3 3 2 2 3 1 2 4 4 1 5 1 1 3 5 1 4 2 2 3 4 5 2 4 2 1 2 4 2 5 2 5 2\n",
      " 3 1 3 2 3 2 2 5 2 4 1 3 2 3 4 3 2 1 4 3 5 5 3 5 5 2 4 2 1 5 3 1 5 3 5 3 4\n",
      " 1 3 4 1 4 4 1 3 4 2 5 1 1 4 2 5 4]\n",
      "Y_validation [4 3 4 4 1 5 2 5 1 2 3 3 4 5 3 5 5 4 1 1 1 3 1 1 1 2 2 4 2 4 1 2 4 2 2 4 2\n",
      " 4 5 1 3 5 1 1 3 5 4 5 2 1 1 3 3 4 4 4 3 5 5 4]\n"
     ]
    }
   ],
   "source": [
    "# Split-out validation dataset\n",
    "array = dataset.values\n",
    "X = array[:,0:2]\n",
    "Y = array[:,2]\n",
    "validation_size = 0.20\n",
    "seed = 7\n",
    "X_train, X_validation, Y_train, Y_validation = model_selection.train_test_split(X, Y, test_size=validation_size, random_state=seed)\n",
    "print('X_train', X_train)\n",
    "print('X_validation', X_validation)\n",
    "print('Y_train', Y_train)\n",
    "print('Y_validation', Y_validation)"
   ]
  },
  {
   "cell_type": "code",
   "execution_count": 55,
   "metadata": {},
   "outputs": [
    {
     "name": "stderr",
     "output_type": "stream",
     "text": [
      "c:\\users\\-\\appdata\\local\\programs\\python\\python37\\lib\\site-packages\\sklearn\\linear_model\\logistic.py:433: FutureWarning: Default solver will be changed to 'lbfgs' in 0.22. Specify a solver to silence this warning.\n",
      "  FutureWarning)\n",
      "c:\\users\\-\\appdata\\local\\programs\\python\\python37\\lib\\site-packages\\sklearn\\linear_model\\logistic.py:460: FutureWarning: Default multi_class will be changed to 'auto' in 0.22. Specify the multi_class option to silence this warning.\n",
      "  \"this warning.\", FutureWarning)\n",
      "c:\\users\\-\\appdata\\local\\programs\\python\\python37\\lib\\site-packages\\sklearn\\linear_model\\logistic.py:433: FutureWarning: Default solver will be changed to 'lbfgs' in 0.22. Specify a solver to silence this warning.\n",
      "  FutureWarning)\n",
      "c:\\users\\-\\appdata\\local\\programs\\python\\python37\\lib\\site-packages\\sklearn\\linear_model\\logistic.py:460: FutureWarning: Default multi_class will be changed to 'auto' in 0.22. Specify the multi_class option to silence this warning.\n",
      "  \"this warning.\", FutureWarning)\n",
      "c:\\users\\-\\appdata\\local\\programs\\python\\python37\\lib\\site-packages\\sklearn\\linear_model\\logistic.py:433: FutureWarning: Default solver will be changed to 'lbfgs' in 0.22. Specify a solver to silence this warning.\n",
      "  FutureWarning)\n",
      "c:\\users\\-\\appdata\\local\\programs\\python\\python37\\lib\\site-packages\\sklearn\\linear_model\\logistic.py:460: FutureWarning: Default multi_class will be changed to 'auto' in 0.22. Specify the multi_class option to silence this warning.\n",
      "  \"this warning.\", FutureWarning)\n",
      "c:\\users\\-\\appdata\\local\\programs\\python\\python37\\lib\\site-packages\\sklearn\\linear_model\\logistic.py:433: FutureWarning: Default solver will be changed to 'lbfgs' in 0.22. Specify a solver to silence this warning.\n",
      "  FutureWarning)\n",
      "c:\\users\\-\\appdata\\local\\programs\\python\\python37\\lib\\site-packages\\sklearn\\linear_model\\logistic.py:460: FutureWarning: Default multi_class will be changed to 'auto' in 0.22. Specify the multi_class option to silence this warning.\n",
      "  \"this warning.\", FutureWarning)\n",
      "c:\\users\\-\\appdata\\local\\programs\\python\\python37\\lib\\site-packages\\sklearn\\linear_model\\logistic.py:433: FutureWarning: Default solver will be changed to 'lbfgs' in 0.22. Specify a solver to silence this warning.\n",
      "  FutureWarning)\n",
      "c:\\users\\-\\appdata\\local\\programs\\python\\python37\\lib\\site-packages\\sklearn\\linear_model\\logistic.py:460: FutureWarning: Default multi_class will be changed to 'auto' in 0.22. Specify the multi_class option to silence this warning.\n",
      "  \"this warning.\", FutureWarning)\n",
      "c:\\users\\-\\appdata\\local\\programs\\python\\python37\\lib\\site-packages\\sklearn\\linear_model\\logistic.py:433: FutureWarning: Default solver will be changed to 'lbfgs' in 0.22. Specify a solver to silence this warning.\n",
      "  FutureWarning)\n",
      "c:\\users\\-\\appdata\\local\\programs\\python\\python37\\lib\\site-packages\\sklearn\\linear_model\\logistic.py:460: FutureWarning: Default multi_class will be changed to 'auto' in 0.22. Specify the multi_class option to silence this warning.\n",
      "  \"this warning.\", FutureWarning)\n",
      "c:\\users\\-\\appdata\\local\\programs\\python\\python37\\lib\\site-packages\\sklearn\\linear_model\\logistic.py:433: FutureWarning: Default solver will be changed to 'lbfgs' in 0.22. Specify a solver to silence this warning.\n",
      "  FutureWarning)\n",
      "c:\\users\\-\\appdata\\local\\programs\\python\\python37\\lib\\site-packages\\sklearn\\linear_model\\logistic.py:460: FutureWarning: Default multi_class will be changed to 'auto' in 0.22. Specify the multi_class option to silence this warning.\n",
      "  \"this warning.\", FutureWarning)\n",
      "c:\\users\\-\\appdata\\local\\programs\\python\\python37\\lib\\site-packages\\sklearn\\linear_model\\logistic.py:433: FutureWarning: Default solver will be changed to 'lbfgs' in 0.22. Specify a solver to silence this warning.\n",
      "  FutureWarning)\n",
      "c:\\users\\-\\appdata\\local\\programs\\python\\python37\\lib\\site-packages\\sklearn\\linear_model\\logistic.py:460: FutureWarning: Default multi_class will be changed to 'auto' in 0.22. Specify the multi_class option to silence this warning.\n",
      "  \"this warning.\", FutureWarning)\n",
      "c:\\users\\-\\appdata\\local\\programs\\python\\python37\\lib\\site-packages\\sklearn\\linear_model\\logistic.py:433: FutureWarning: Default solver will be changed to 'lbfgs' in 0.22. Specify a solver to silence this warning.\n",
      "  FutureWarning)\n",
      "c:\\users\\-\\appdata\\local\\programs\\python\\python37\\lib\\site-packages\\sklearn\\linear_model\\logistic.py:460: FutureWarning: Default multi_class will be changed to 'auto' in 0.22. Specify the multi_class option to silence this warning.\n",
      "  \"this warning.\", FutureWarning)\n",
      "c:\\users\\-\\appdata\\local\\programs\\python\\python37\\lib\\site-packages\\sklearn\\linear_model\\logistic.py:433: FutureWarning: Default solver will be changed to 'lbfgs' in 0.22. Specify a solver to silence this warning.\n",
      "  FutureWarning)\n",
      "c:\\users\\-\\appdata\\local\\programs\\python\\python37\\lib\\site-packages\\sklearn\\linear_model\\logistic.py:460: FutureWarning: Default multi_class will be changed to 'auto' in 0.22. Specify the multi_class option to silence this warning.\n",
      "  \"this warning.\", FutureWarning)\n"
     ]
    },
    {
     "name": "stdout",
     "output_type": "stream",
     "text": [
      "LR: 0.133696 (0.048229)\n",
      "LDA: 0.129529 (0.046985)\n",
      "KNN: 0.163043 (0.072983)\n",
      "CART: 0.146558 (0.043103)\n",
      "NB: 0.204529 (0.095382)\n",
      "SVM: 0.150725 (0.046708)\n"
     ]
    },
    {
     "name": "stderr",
     "output_type": "stream",
     "text": [
      "c:\\users\\-\\appdata\\local\\programs\\python\\python37\\lib\\site-packages\\sklearn\\svm\\base.py:196: FutureWarning: The default value of gamma will change from 'auto' to 'scale' in version 0.22 to account better for unscaled features. Set gamma explicitly to 'auto' or 'scale' to avoid this warning.\n",
      "  \"avoid this warning.\", FutureWarning)\n",
      "c:\\users\\-\\appdata\\local\\programs\\python\\python37\\lib\\site-packages\\sklearn\\svm\\base.py:196: FutureWarning: The default value of gamma will change from 'auto' to 'scale' in version 0.22 to account better for unscaled features. Set gamma explicitly to 'auto' or 'scale' to avoid this warning.\n",
      "  \"avoid this warning.\", FutureWarning)\n",
      "c:\\users\\-\\appdata\\local\\programs\\python\\python37\\lib\\site-packages\\sklearn\\svm\\base.py:196: FutureWarning: The default value of gamma will change from 'auto' to 'scale' in version 0.22 to account better for unscaled features. Set gamma explicitly to 'auto' or 'scale' to avoid this warning.\n",
      "  \"avoid this warning.\", FutureWarning)\n",
      "c:\\users\\-\\appdata\\local\\programs\\python\\python37\\lib\\site-packages\\sklearn\\svm\\base.py:196: FutureWarning: The default value of gamma will change from 'auto' to 'scale' in version 0.22 to account better for unscaled features. Set gamma explicitly to 'auto' or 'scale' to avoid this warning.\n",
      "  \"avoid this warning.\", FutureWarning)\n",
      "c:\\users\\-\\appdata\\local\\programs\\python\\python37\\lib\\site-packages\\sklearn\\svm\\base.py:196: FutureWarning: The default value of gamma will change from 'auto' to 'scale' in version 0.22 to account better for unscaled features. Set gamma explicitly to 'auto' or 'scale' to avoid this warning.\n",
      "  \"avoid this warning.\", FutureWarning)\n",
      "c:\\users\\-\\appdata\\local\\programs\\python\\python37\\lib\\site-packages\\sklearn\\svm\\base.py:196: FutureWarning: The default value of gamma will change from 'auto' to 'scale' in version 0.22 to account better for unscaled features. Set gamma explicitly to 'auto' or 'scale' to avoid this warning.\n",
      "  \"avoid this warning.\", FutureWarning)\n",
      "c:\\users\\-\\appdata\\local\\programs\\python\\python37\\lib\\site-packages\\sklearn\\svm\\base.py:196: FutureWarning: The default value of gamma will change from 'auto' to 'scale' in version 0.22 to account better for unscaled features. Set gamma explicitly to 'auto' or 'scale' to avoid this warning.\n",
      "  \"avoid this warning.\", FutureWarning)\n",
      "c:\\users\\-\\appdata\\local\\programs\\python\\python37\\lib\\site-packages\\sklearn\\svm\\base.py:196: FutureWarning: The default value of gamma will change from 'auto' to 'scale' in version 0.22 to account better for unscaled features. Set gamma explicitly to 'auto' or 'scale' to avoid this warning.\n",
      "  \"avoid this warning.\", FutureWarning)\n",
      "c:\\users\\-\\appdata\\local\\programs\\python\\python37\\lib\\site-packages\\sklearn\\svm\\base.py:196: FutureWarning: The default value of gamma will change from 'auto' to 'scale' in version 0.22 to account better for unscaled features. Set gamma explicitly to 'auto' or 'scale' to avoid this warning.\n",
      "  \"avoid this warning.\", FutureWarning)\n",
      "c:\\users\\-\\appdata\\local\\programs\\python\\python37\\lib\\site-packages\\sklearn\\svm\\base.py:196: FutureWarning: The default value of gamma will change from 'auto' to 'scale' in version 0.22 to account better for unscaled features. Set gamma explicitly to 'auto' or 'scale' to avoid this warning.\n",
      "  \"avoid this warning.\", FutureWarning)\n"
     ]
    }
   ],
   "source": [
    "# Spot Check Algorithms\n",
    "models = []\n",
    "models.append(('LR', LogisticRegression()))\n",
    "models.append(('LDA', LinearDiscriminantAnalysis()))\n",
    "models.append(('KNN', KNeighborsClassifier()))\n",
    "models.append(('CART', DecisionTreeClassifier()))\n",
    "models.append(('NB', GaussianNB()))\n",
    "models.append(('SVM', SVC()))\n",
    "\n",
    "# evaluate each model in turn\n",
    "results = []\n",
    "names = []\n",
    "for name, model in models:\n",
    "    kfold = model_selection.KFold(n_splits=10, random_state=seed)\n",
    "    cv_results = model_selection.cross_val_score(model, X_train, Y_train, cv=kfold)\n",
    "    results.append(cv_results)\n",
    "    names.append(name)\n",
    "    msg = \"%s: %f (%f)\" % (name, cv_results.mean(), cv_results.std())\n",
    "    print(msg)"
   ]
  },
  {
   "cell_type": "code",
   "execution_count": 57,
   "metadata": {},
   "outputs": [
    {
     "name": "stdout",
     "output_type": "stream",
     "text": [
      "0.18333333333333332\n"
     ]
    },
    {
     "name": "stderr",
     "output_type": "stream",
     "text": [
      "c:\\users\\-\\appdata\\local\\programs\\python\\python37\\lib\\site-packages\\sklearn\\svm\\base.py:196: FutureWarning: The default value of gamma will change from 'auto' to 'scale' in version 0.22 to account better for unscaled features. Set gamma explicitly to 'auto' or 'scale' to avoid this warning.\n",
      "  \"avoid this warning.\", FutureWarning)\n"
     ]
    }
   ],
   "source": [
    "# Make predictions on validation dataset\n",
    "# Make predictions on validation dataset\n",
    "SVM = SVC()\n",
    "SVM.fit(X_train, Y_train)\n",
    "predictions =SVM.predict(X_validation)\n",
    "print(accuracy_score(Y_validation, predictions))\n",
    "\n",
    "\n",
    "\n"
   ]
  },
  {
   "cell_type": "markdown",
   "metadata": {
    "collapsed": true
   },
   "source": [
    "# our Final prediction"
   ]
  },
  {
   "cell_type": "code",
   "execution_count": 59,
   "metadata": {},
   "outputs": [
    {
     "ename": "SyntaxError",
     "evalue": "invalid syntax (<ipython-input-59-e10c7557b6d9>, line 2)",
     "output_type": "error",
     "traceback": [
      "\u001b[1;36m  File \u001b[1;32m\"<ipython-input-59-e10c7557b6d9>\"\u001b[1;36m, line \u001b[1;32m2\u001b[0m\n\u001b[1;33m    print(SVM.predict(test_X))\u001b[0m\n\u001b[1;37m        ^\u001b[0m\n\u001b[1;31mSyntaxError\u001b[0m\u001b[1;31m:\u001b[0m invalid syntax\n"
     ]
    }
   ],
   "source": [
    "test_X=[[22 ,3]\n",
    "print(SVM.predict(test_X))"
   ]
  },
  {
   "cell_type": "code",
   "execution_count": null,
   "metadata": {},
   "outputs": [],
   "source": []
  },
  {
   "cell_type": "code",
   "execution_count": null,
   "metadata": {},
   "outputs": [],
   "source": []
  }
 ],
 "metadata": {
  "kernelspec": {
   "display_name": "Python 3",
   "language": "python",
   "name": "python3"
  },
  "language_info": {
   "codemirror_mode": {
    "name": "ipython",
    "version": 3
   },
   "file_extension": ".py",
   "mimetype": "text/x-python",
   "name": "python",
   "nbconvert_exporter": "python",
   "pygments_lexer": "ipython3",
   "version": "3.7.2"
  }
 },
 "nbformat": 4,
 "nbformat_minor": 2
}
