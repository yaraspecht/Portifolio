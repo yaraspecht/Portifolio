{
 "cells": [
  {
   "cell_type": "code",
   "execution_count": 1,
   "metadata": {},
   "outputs": [],
   "source": [
    "from lxml import html\n",
    "import requests\n",
    "import time\n",
    "\n",
    "class AppCrawler:\n",
    "\n",
    "    def __init__(self, url_inicial, nivel_max):\n",
    "        self.url_inicial = url_inicial\n",
    "        self.nivel_max = nivel_max\n",
    "        self.nivel_atual = 0\n",
    "        self.links_nivel = []\n",
    "        self.apps = []\n",
    "\n",
    "    def get_app_do_link(self, link):\n",
    "        pagina_inicial = requests.get(link)\n",
    "        arvore = html.fromstring(pagina_inicial.text)\n",
    "\n",
    "        nome = arvore.xpath('//h1[@class=\"product-header__title app-header__title\"]/text()')[0].strip()\n",
    "        desenvolvedor = arvore.xpath('//dd[@class=\"information-list__item__definition l-column medium-9 large-6\"]/text()')[0].strip()\n",
    "        links = arvore.xpath('//a[@class=\"we-lockup targeted-link l-column small-2 medium-3 large-2 ember-view\"]/@href')\n",
    "\n",
    "        app = App(nome, desenvolvedor, links)\n",
    "\n",
    "        return app\n",
    "\n",
    "    def crawl(self):\n",
    "\n",
    "        app = self.get_app_do_link(self.url_inicial)\n",
    "        self.apps.append(app)\n",
    "        self.links_nivel.append(app.links)\n",
    "\n",
    "        while self.nivel_atual < self.nivel_max:\n",
    "            links_atuais = []\n",
    "            for link in self.links_nivel[self.nivel_atual]:\n",
    "                app_atual = self.get_app_do_link(link)\n",
    "                links_atuais.extend(app_atual.links)\n",
    "                self.apps.append(app_atual)\n",
    "                time.sleep(2)\n",
    "            self.nivel_atual += 1\n",
    "            self.links_nivel.append(links_atuais)\n",
    "    \n",
    "        return\n",
    "\n"
   ]
  },
  {
   "cell_type": "code",
   "execution_count": 3,
   "metadata": {},
   "outputs": [],
   "source": [
    "\n",
    "class App:\n",
    "    def __init__(self, nome, desenvolvedor, links):\n",
    "        self.nome = nome\n",
    "        self.desenvolvedor = desenvolvedor\n",
    "        self.links = links\n",
    "\n",
    "    def __str__(self):\n",
    "        return (\"'\" + self.nome + \"'; '\" + self.desenvolvedor + \"'\")\n",
    "\n",
    "\n"
   ]
  },
  {
   "cell_type": "code",
   "execution_count": 4,
   "metadata": {},
   "outputs": [
    {
     "name": "stdout",
     "output_type": "stream",
     "text": [
      "'Clash Royale'; 'Supercell Oy'\n",
      "'Brawl Stars'; 'Supercell Oy'\n",
      "'Hay Day'; 'Supercell Oy'\n",
      "'Clash of Clans'; 'Supercell Oy'\n",
      "'Boom Beach'; 'Supercell Oy'\n",
      "'Clash-A-Rama'; 'Supercell Oy'\n",
      "'Hay Day Stickers'; 'Supercell Oy'\n",
      "'Smashy Road: Wanted'; 'Bearbit Studios B.V.'\n",
      "'PewDiePie's Tuber Simulator'; 'Outerminds Inc.'\n",
      "'Drive Ahead!'; 'Dodreams Fairytale Company Oy'\n",
      "'Bloons TD Battles'; 'Kaiparasoft Ltd'\n",
      "'Monster Legends'; 'Social Point'\n",
      "'Head Soccer'; 'D&D Dream Corp.'\n"
     ]
    }
   ],
   "source": [
    "crawler = AppCrawler('https://itunes.apple.com/br/app/clash-royale/id1053012308', 1)\n",
    "crawler.crawl()\n",
    "for app in crawler.apps:\n",
    "    print(app)"
   ]
  },
  {
   "cell_type": "code",
   "execution_count": 5,
   "metadata": {},
   "outputs": [
    {
     "name": "stdout",
     "output_type": "stream",
     "text": [
      "'Cut the Rope: Magic GOLD'; 'ZeptoLab UK Limited'\n",
      "'CATS: Crash Arena Turbo Stars'; 'ZeptoLab UK Limited'\n",
      "'Cut the Rope'; 'ZeptoLab UK Limited'\n",
      "'Cut the Rope 2: Om Nom's Quest'; 'ZeptoLab UK Limited'\n",
      "'King of Thieves'; 'ZeptoLab UK Limited'\n",
      "'Cut the Rope: Magic'; 'ZeptoLab UK Limited'\n",
      "'Cut the Rope: Time Travel™'; 'ZeptoLab UK Limited'\n",
      "'Blyss'; 'Dropout Games Private Limited'\n",
      "'Zip—Zap'; 'Philipp Stollenmayer'\n",
      "'Nightgate'; 'Semidome Inc.'\n",
      "'Chameleon Run'; 'Noodlecake Studios Inc'\n",
      "'Perchang'; 'Perchang Limited'\n",
      "'Warp Shift'; 'FISHLABS'\n"
     ]
    }
   ],
   "source": [
    "#\"https://itunes.apple.com/br/app/cut-the-rope-magic-gold/id1044677336?mt=8\"\n",
    "    \n",
    "crawler = AppCrawler('https://itunes.apple.com/br/app/cut-the-rope-magic-gold/id1044677336', 1)\n",
    "crawler.crawl()\n",
    "for app in crawler.apps:\n",
    "    print(app)"
   ]
  },
  {
   "cell_type": "code",
   "execution_count": null,
   "metadata": {},
   "outputs": [],
   "source": []
  }
 ],
 "metadata": {
  "kernelspec": {
   "display_name": "Python 3",
   "language": "python",
   "name": "python3"
  },
  "language_info": {
   "codemirror_mode": {
    "name": "ipython",
    "version": 3
   },
   "file_extension": ".py",
   "mimetype": "text/x-python",
   "name": "python",
   "nbconvert_exporter": "python",
   "pygments_lexer": "ipython3",
   "version": "3.7.2"
  }
 },
 "nbformat": 4,
 "nbformat_minor": 2
}
