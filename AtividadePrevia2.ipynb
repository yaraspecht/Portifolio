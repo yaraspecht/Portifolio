{
 "cells": [
  {
   "cell_type": "code",
   "execution_count": 1,
   "metadata": {},
   "outputs": [],
   "source": [
    "from lxml import html\n",
    "import requests\n",
    "import time\n",
    "\n",
    "def __init__(self, url_inicial, nivel_max):\n",
    "    self.url_inicial = url_inicial\n",
    "    self.nivel_max = nivel_max\n",
    "    self.nivel_atual = 0\n",
    "    self.links_nivel = []\n",
    "    self.apps = []\n",
    "    "
   ]
  },
  {
   "cell_type": "code",
   "execution_count": 2,
   "metadata": {},
   "outputs": [],
   "source": [
    "def get_app_do_link(self, link):\n",
    "        pagina_inicial = requests.get(link)\n",
    "        arvore = html.fromstring(pagina_inicial.text)\n",
    "        nome = arvore.xpath('//h1[@class=\"product-header__title app-header__title\"]/text()')[0].strip()\n",
    "        desenvolvedor = arvore.xpath('//dd[@class=\"information-list__item__definition l-column medium-9 large-6\"]/text()')[0].strip()\n",
    "        links = arvore.xpath('//a[@class=\"we-lockup targeted-link l-column small-2 medium-3 large-2 ember-view\"]/@href')\n",
    "        \n",
    "        app = App(nome, desenvolvedor, links)\n",
    "        \n",
    "        return app"
   ]
  },
  {
   "cell_type": "code",
   "execution_count": 3,
   "metadata": {},
   "outputs": [],
   "source": [
    "def crawl(self):\n",
    "\n",
    "    app = self.get_app_do_link(self.url_inicial)\n",
    "    self.apps.append(app)\n",
    "    self.links_nivel.append(app.links)\n",
    "\n",
    "    while self.nivel_atual < self.nivel_max:\n",
    "        links_atuais = []\n",
    "        for link in self.links_nivel[self.nivel_atual]:\n",
    "            app_atual = self.get_app_do_link(link)\n",
    "            links_atuais.extend(app_atual.links)\n",
    "            self.apps.append(app_atual)\n",
    "            time.sleep(2)\n",
    "        self.nivel_atual += 1\n",
    "        self.links_nivel.append(links_atuais)\n",
    "return\n",
    "\n"
   ]
  },
  {
   "cell_type": "code",
   "execution_count": 11,
   "metadata": {},
   "outputs": [
    {
     "ename": "TypeError",
     "evalue": "can only concatenate str (not \"int\") to str",
     "output_type": "error",
     "traceback": [
      "\u001b[1;31m---------------------------------------------------------------------------\u001b[0m",
      "\u001b[1;31mTypeError\u001b[0m                                 Traceback (most recent call last)",
      "\u001b[1;32m<ipython-input-11-542a18a37066>\u001b[0m in \u001b[0;36m<module>\u001b[1;34m\u001b[0m\n\u001b[0;32m      8\u001b[0m     \u001b[1;32mreturn\u001b[0m \u001b[1;33m(\u001b[0m\u001b[1;34m\"'\"\u001b[0m \u001b[1;33m+\u001b[0m \u001b[0mnome\u001b[0m \u001b[1;33m+\u001b[0m \u001b[1;34m\"'; '\"\u001b[0m \u001b[1;33m+\u001b[0m \u001b[0mint\u001b[0m\u001b[1;33m(\u001b[0m\u001b[0mdesenvolvedor\u001b[0m\u001b[1;33m)\u001b[0m \u001b[1;33m+\u001b[0m \u001b[1;34m\"'\"\u001b[0m\u001b[1;33m)\u001b[0m\u001b[1;33m\u001b[0m\u001b[1;33m\u001b[0m\u001b[0m\n\u001b[0;32m      9\u001b[0m \u001b[1;33m\u001b[0m\u001b[0m\n\u001b[1;32m---> 10\u001b[1;33m \u001b[0mcrawler\u001b[0m \u001b[1;33m=\u001b[0m \u001b[0mAppCrawler\u001b[0m\u001b[1;33m(\u001b[0m\u001b[1;34m'https://itunes.apple.com/br/app/clash-royale/id1053012308'\u001b[0m\u001b[1;33m,\u001b[0m \u001b[1;36m1\u001b[0m\u001b[1;33m)\u001b[0m\u001b[1;33m\u001b[0m\u001b[1;33m\u001b[0m\u001b[0m\n\u001b[0m\u001b[0;32m     11\u001b[0m \u001b[0mcrawler\u001b[0m\u001b[1;33m.\u001b[0m\u001b[0mcrawl\u001b[0m\u001b[1;33m(\u001b[0m\u001b[1;33m)\u001b[0m\u001b[1;33m\u001b[0m\u001b[1;33m\u001b[0m\u001b[0m\n\u001b[0;32m     12\u001b[0m \u001b[1;32mfor\u001b[0m \u001b[0mapp\u001b[0m \u001b[1;32min\u001b[0m \u001b[0mcrawler\u001b[0m\u001b[1;33m.\u001b[0m\u001b[0mapps\u001b[0m\u001b[1;33m:\u001b[0m\u001b[1;33m\u001b[0m\u001b[1;33m\u001b[0m\u001b[0m\n",
      "\u001b[1;32m<ipython-input-11-542a18a37066>\u001b[0m in \u001b[0;36mAppCrawler\u001b[1;34m(nome, desenvolvedor)\u001b[0m\n\u001b[0;32m      6\u001b[0m \u001b[1;33m\u001b[0m\u001b[0m\n\u001b[0;32m      7\u001b[0m \u001b[1;32mdef\u001b[0m \u001b[0mAppCrawler\u001b[0m\u001b[1;33m(\u001b[0m\u001b[0mnome\u001b[0m\u001b[1;33m,\u001b[0m \u001b[0mdesenvolvedor\u001b[0m\u001b[1;33m)\u001b[0m\u001b[1;33m:\u001b[0m\u001b[1;33m\u001b[0m\u001b[1;33m\u001b[0m\u001b[0m\n\u001b[1;32m----> 8\u001b[1;33m     \u001b[1;32mreturn\u001b[0m \u001b[1;33m(\u001b[0m\u001b[1;34m\"'\"\u001b[0m \u001b[1;33m+\u001b[0m \u001b[0mnome\u001b[0m \u001b[1;33m+\u001b[0m \u001b[1;34m\"'; '\"\u001b[0m \u001b[1;33m+\u001b[0m \u001b[0mint\u001b[0m\u001b[1;33m(\u001b[0m\u001b[0mdesenvolvedor\u001b[0m\u001b[1;33m)\u001b[0m \u001b[1;33m+\u001b[0m \u001b[1;34m\"'\"\u001b[0m\u001b[1;33m)\u001b[0m\u001b[1;33m\u001b[0m\u001b[1;33m\u001b[0m\u001b[0m\n\u001b[0m\u001b[0;32m      9\u001b[0m \u001b[1;33m\u001b[0m\u001b[0m\n\u001b[0;32m     10\u001b[0m \u001b[0mcrawler\u001b[0m \u001b[1;33m=\u001b[0m \u001b[0mAppCrawler\u001b[0m\u001b[1;33m(\u001b[0m\u001b[1;34m'https://itunes.apple.com/br/app/clash-royale/id1053012308'\u001b[0m\u001b[1;33m,\u001b[0m \u001b[1;36m1\u001b[0m\u001b[1;33m)\u001b[0m\u001b[1;33m\u001b[0m\u001b[1;33m\u001b[0m\u001b[0m\n",
      "\u001b[1;31mTypeError\u001b[0m: can only concatenate str (not \"int\") to str"
     ]
    }
   ],
   "source": [
    "#class App:\n",
    "def __init__(self, nome, desenvolvedor, links):\n",
    "    self.nome = nome\n",
    "    self.desenvolvedor = desenvolvedor\n",
    "    self.links = links\n",
    "\n",
    "def AppCrawler(nome, desenvolvedor):\n",
    "    return (\"'\" + nome + \"'; '\" + int(desenvolvedor) + \"'\")\n",
    "\n",
    "crawler = AppCrawler('https://itunes.apple.com/br/app/clash-royale/id1053012308', 1)\n",
    "crawler.crawl()\n",
    "for app in crawler.apps:\n",
    "    print(app)"
   ]
  },
  {
   "cell_type": "code",
   "execution_count": null,
   "metadata": {},
   "outputs": [],
   "source": []
  }
 ],
 "metadata": {
  "kernelspec": {
   "display_name": "Python 3",
   "language": "python",
   "name": "python3"
  },
  "language_info": {
   "codemirror_mode": {
    "name": "ipython",
    "version": 3
   },
   "file_extension": ".py",
   "mimetype": "text/x-python",
   "name": "python",
   "nbconvert_exporter": "python",
   "pygments_lexer": "ipython3",
   "version": "3.7.2"
  }
 },
 "nbformat": 4,
 "nbformat_minor": 2
}
